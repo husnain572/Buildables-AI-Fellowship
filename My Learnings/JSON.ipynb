{
 "cells": [
  {
   "cell_type": "markdown",
   "id": "7b6d3a43",
   "metadata": {},
   "source": [
    "## **Python JSON Module — Complete Guide**\n",
    "\n",
    "### **1. Introduction to JSON**\n",
    "\n",
    "**Theory**:\n",
    "\n",
    "* **JSON** stands for **JavaScript Object Notation**.\n",
    "* It is a lightweight data format used for storing and exchanging data.\n",
    "* Syntax is similar to Python dictionaries, but it is actually just **text**.\n",
    "* Keys must be in **double quotes** (`\"`) in JSON.\n"
   ]
  },
  {
   "cell_type": "markdown",
   "id": "093a962a",
   "metadata": {},
   "source": [
    "**Example JSON string:**\n"
   ]
  },
  {
   "cell_type": "code",
   "execution_count": 3,
   "id": "c95c861d",
   "metadata": {},
   "outputs": [
    {
     "data": {
      "text/plain": [
       "{'name': 'Husnain', 'age': 25, 'skills': ['Python', 'SQL']}"
      ]
     },
     "execution_count": 3,
     "metadata": {},
     "output_type": "execute_result"
    }
   ],
   "source": [
    "{\n",
    "  \"name\": \"Husnain\",\n",
    "  \"age\": 25,\n",
    "  \"skills\": [\"Python\", \"SQL\"]\n",
    "}"
   ]
  },
  {
   "cell_type": "markdown",
   "id": "7e3f729a",
   "metadata": {},
   "source": [
    "### **2. Importing the `json` Module**\n",
    "\n",
    "**Theory**:\n",
    "\n",
    "* Python provides a built-in `json` module to work with JSON data."
   ]
  },
  {
   "cell_type": "markdown",
   "id": "8b17f2c6",
   "metadata": {},
   "source": [
    "**Example:**\n"
   ]
  },
  {
   "cell_type": "code",
   "execution_count": 12,
   "id": "ca1cc5e3",
   "metadata": {},
   "outputs": [],
   "source": [
    "import json"
   ]
  },
  {
   "cell_type": "markdown",
   "id": "267c2f70",
   "metadata": {},
   "source": [
    "### **3. Converting Python to JSON (`json.dumps`)**\n"
   ]
  },
  {
   "cell_type": "markdown",
   "id": "b6d89a45",
   "metadata": {},
   "source": [
    "**Theory**:\n",
    "* `json.dumps()` → converts Python objects into JSON-formatted strings.\n"
   ]
  },
  {
   "cell_type": "markdown",
   "id": "677288e4",
   "metadata": {},
   "source": [
    "**Example:**\n"
   ]
  },
  {
   "cell_type": "code",
   "execution_count": 5,
   "id": "b7895c9e",
   "metadata": {},
   "outputs": [
    {
     "name": "stdout",
     "output_type": "stream",
     "text": [
      "{\"name\": \"Husnain\", \"age\": 25}\n",
      "<class 'str'>\n"
     ]
    }
   ],
   "source": [
    "import json\n",
    "\n",
    "data = {\"name\": \"Husnain\", \"age\": 25}\n",
    "json_string = json.dumps(data)\n",
    "\n",
    "print(json_string)       \n",
    "print(type(json_string)) "
   ]
  },
  {
   "cell_type": "markdown",
   "id": "d1b11b74",
   "metadata": {},
   "source": [
    "**Exercise:**\n",
    "Convert this Python dictionary into a JSON string:\n",
    "```python\n",
    "{\"country\": \"Pakistan\", \"population\": 240000000}\n",
    "```"
   ]
  },
  {
   "cell_type": "code",
   "execution_count": 13,
   "id": "cec48900",
   "metadata": {},
   "outputs": [
    {
     "data": {
      "text/plain": [
       "'{\"country\": \"Pakistan\", \"population\": 240000000}'"
      ]
     },
     "execution_count": 13,
     "metadata": {},
     "output_type": "execute_result"
    }
   ],
   "source": [
    "dummy={\"country\": \"Pakistan\", \"population\": 240000000}\n",
    "json_string=json.dumps(dummy)\n",
    "json_string"
   ]
  },
  {
   "cell_type": "markdown",
   "id": "f641ae45",
   "metadata": {},
   "source": [
    "### **4. Converting JSON to Python (`json.loads`)**\n"
   ]
  },
  {
   "cell_type": "markdown",
   "id": "a2318afd",
   "metadata": {},
   "source": [
    "**Theory**:\n",
    "* `json.loads()` → converts a JSON string into a Python dictionary.\n"
   ]
  },
  {
   "cell_type": "markdown",
   "id": "6e49be37",
   "metadata": {},
   "source": [
    "**Example:**\n"
   ]
  },
  {
   "cell_type": "code",
   "execution_count": 7,
   "id": "515b5763",
   "metadata": {},
   "outputs": [
    {
     "name": "stdout",
     "output_type": "stream",
     "text": [
      "{'name': 'Husnain', 'age': 25}\n",
      "<class 'dict'>\n"
     ]
    }
   ],
   "source": [
    "import json\n",
    "\n",
    "json_string = '{\"name\": \"Husnain\", \"age\": 25}'\n",
    "python_data = json.loads(json_string)\n",
    "\n",
    "print(python_data)       \n",
    "print(type(python_data))"
   ]
  },
  {
   "cell_type": "markdown",
   "id": "caec2386",
   "metadata": {},
   "source": [
    "**Exercise:**\n",
    "Convert the JSON string `'{\"fruit\": \"Mango\", \"color\": \"Yellow\"}'` into a Python dictionary.\n"
   ]
  },
  {
   "cell_type": "code",
   "execution_count": 16,
   "id": "97dd57ac",
   "metadata": {},
   "outputs": [
    {
     "name": "stdout",
     "output_type": "stream",
     "text": [
      "{'fruit': 'Mango', 'color': 'Yellow'}\n",
      "<class 'dict'>\n"
     ]
    }
   ],
   "source": [
    "json_string='{\"fruit\": \"Mango\", \"color\": \"Yellow\"}'\n",
    "dict=json.loads(json_string)\n",
    "print(dict)\n",
    "print(type(dict))"
   ]
  },
  {
   "cell_type": "markdown",
   "id": "7bfd9097",
   "metadata": {},
   "source": [
    "### **5. Working with JSON Files**\n"
   ]
  },
  {
   "cell_type": "markdown",
   "id": "862eb260",
   "metadata": {},
   "source": [
    "**Theory**:\n",
    "* `json.dump()` → write Python objects to a file in JSON format.\n",
    "* `json.load()` → read JSON from a file and convert it to Python objects.\n"
   ]
  },
  {
   "cell_type": "markdown",
   "id": "e6430ed5",
   "metadata": {},
   "source": [
    "**Example:**\n"
   ]
  },
  {
   "cell_type": "code",
   "execution_count": 19,
   "id": "7b1e2912",
   "metadata": {},
   "outputs": [
    {
     "name": "stdout",
     "output_type": "stream",
     "text": [
      "{'name': 'Husnain', 'city': 'Lahore'}\n"
     ]
    }
   ],
   "source": [
    "# Writing to a file\n",
    "data = {\"name\": \"Husnain\", \"city\": \"Lahore\"}\n",
    "with open(\"data.json\", \"w\") as f:\n",
    "    json.dump(data, f)\n",
    "\n",
    "# Reading from a file\n",
    "with open(\"data.json\", \"r\") as f:\n",
    "    loaded_data = json.load(f)\n",
    "\n",
    "print(loaded_data)"
   ]
  },
  {
   "cell_type": "markdown",
   "id": "f23b2f03",
   "metadata": {},
   "source": [
    "**Exercise:**\n",
    "Write a dictionary `{\"language\": \"Python\", \"version\": 3.10}` into a JSON file named `lang.json` and then read it back.\n"
   ]
  },
  {
   "cell_type": "code",
   "execution_count": 21,
   "id": "e3ad3d22",
   "metadata": {},
   "outputs": [
    {
     "name": "stdout",
     "output_type": "stream",
     "text": [
      "{'language': 'Python', 'version': 3.1}\n"
     ]
    }
   ],
   "source": [
    "data={\"language\": \"Python\", \"version\": 3.10}\n",
    "with open('lang.json','w') as f:\n",
    "    json.dump(data,f)\n",
    "\n",
    "with open('lang.json','r') as f:\n",
    "    loaded_data=json.load(f)\n",
    "print(loaded_data)\n"
   ]
  },
  {
   "cell_type": "markdown",
   "id": "5829b635",
   "metadata": {},
   "source": [
    "\n",
    "### **6. Pretty Printing JSON**"
   ]
  },
  {
   "cell_type": "markdown",
   "id": "e701bc45",
   "metadata": {},
   "source": [
    "**Theory**:\n",
    "\n",
    "* Use `indent` in `json.dumps()` to format JSON for readability.\n",
    "* Use `sort_keys=True` to sort keys."
   ]
  },
  {
   "cell_type": "markdown",
   "id": "1a7cbfb9",
   "metadata": {},
   "source": [
    "**Example:**\n"
   ]
  },
  {
   "cell_type": "code",
   "execution_count": 25,
   "id": "38060d40",
   "metadata": {},
   "outputs": [
    {
     "name": "stdout",
     "output_type": "stream",
     "text": [
      "{\n",
      "          \"age\": 25,\n",
      "          \"name\": \"Husnain\"\n",
      "}\n"
     ]
    }
   ],
   "source": [
    "data = {\"age\": 25, \"name\": \"Husnain\"}\n",
    "pretty_json = json.dumps(data, indent=10, sort_keys=True)\n",
    "print(pretty_json)"
   ]
  },
  {
   "cell_type": "markdown",
   "id": "8f3bc26d",
   "metadata": {},
   "source": [
    "\n",
    "### **7. Encoding & Decoding Special Data Types**\n"
   ]
  },
  {
   "cell_type": "markdown",
   "id": "ab092250",
   "metadata": {},
   "source": [
    "**Theory**:\n",
    "* JSON supports: `str`, `int`, `float`, `bool`, `None`, `list`, and `dict`.\n",
    "* For unsupported types (like `datetime`), you must convert them to strings manually."
   ]
  },
  {
   "cell_type": "markdown",
   "id": "f8130897",
   "metadata": {},
   "source": [
    "**Example:**"
   ]
  },
  {
   "cell_type": "code",
   "execution_count": 10,
   "id": "7e0ee431",
   "metadata": {},
   "outputs": [
    {
     "name": "stdout",
     "output_type": "stream",
     "text": [
      "{\"time\": \"2025-08-22T23:21:50.929021\"}\n"
     ]
    }
   ],
   "source": [
    "from datetime import datetime\n",
    "data = {\"time\": datetime.now().isoformat()}\n",
    "print(json.dumps(data))"
   ]
  },
  {
   "cell_type": "markdown",
   "id": "4bd06324",
   "metadata": {},
   "source": [
    "\n",
    "### **8. Practical Implementation — Using JSON with APIs**\n"
   ]
  },
  {
   "cell_type": "code",
   "execution_count": 26,
   "id": "5cb62682",
   "metadata": {},
   "outputs": [
    {
     "name": "stdout",
     "output_type": "stream",
     "text": [
      "Data saved from API!\n"
     ]
    }
   ],
   "source": [
    "import requests\n",
    "import json\n",
    "\n",
    "response = requests.get(\"https://api.github.com\")\n",
    "data = response.json()  # Already a Python dict\n",
    "\n",
    "# Save to file\n",
    "with open(\"github_api.json\", \"w\") as f:\n",
    "    json.dump(data, f, indent=4)\n",
    "\n",
    "print(\"Data saved from API!\")"
   ]
  }
 ],
 "metadata": {
  "kernelspec": {
   "display_name": "ml_env",
   "language": "python",
   "name": "python3"
  },
  "language_info": {
   "codemirror_mode": {
    "name": "ipython",
    "version": 3
   },
   "file_extension": ".py",
   "mimetype": "text/x-python",
   "name": "python",
   "nbconvert_exporter": "python",
   "pygments_lexer": "ipython3",
   "version": "3.10.18"
  }
 },
 "nbformat": 4,
 "nbformat_minor": 5
}
