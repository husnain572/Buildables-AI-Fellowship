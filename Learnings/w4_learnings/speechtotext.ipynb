{
 "cells": [
  {
   "cell_type": "markdown",
   "id": "16b30d51",
   "metadata": {},
   "source": [
    "### 1) Quick setup (install)\n",
    "Before writing any code, you need the libraries."
   ]
  },
  {
   "cell_type": "markdown",
   "id": "617fa71e",
   "metadata": {},
   "source": [
    "Notes:\n",
    "\n",
    "- `pyttsx3` uses your OS voices (so it must run on your machine to hear audio). \n",
    "\n",
    "- `gTTS` creates mp3 files you can play back in Colab/browser. \n",
    "gtts.readthedocs.io\n",
    "\n",
    "- `pocketsphinx` provides offline recognition but needs language models and sometimes extra system libs (PortAudio on *nix). \n",
    "pocketsphinx.readthedocs.io"
   ]
  },
  {
   "cell_type": "code",
   "execution_count": 13,
   "id": "dac40b95",
   "metadata": {},
   "outputs": [],
   "source": [
    "# pip install SpeechRecognition pyttsx3 gTTs pydub pocketsphinx\n"
   ]
  },
  {
   "cell_type": "markdown",
   "id": "6f430e5e",
   "metadata": {},
   "source": [
    "### 2) Core concepts\n",
    "\n",
    "- Microphone → digital samples → AudioData.`sr.Microphone()` + `r.listen()` produce an AudioData object. The `Recognizer` transforms that `AudioData` into text using various backends. \n",
    "Real Python\n",
    "\n",
    "- Backends: `recognize_google()` (free Google web API, needs internet), `recognize_google_cloud()` (Google Cloud, needs credentials), `recognize_sphinx()` (offline via PocketSphinx), and others (Azure, IBM, Wit.ai). See docs/GitHub for the full list."
   ]
  },
  {
   "cell_type": "code",
   "execution_count": 14,
   "id": "b85af6a6",
   "metadata": {},
   "outputs": [],
   "source": [
    "import speech_recognition as sr\n",
    "import pyttsx3"
   ]
  },
  {
   "cell_type": "markdown",
   "id": "71089a81",
   "metadata": {},
   "source": [
    "- SpeechRecognition → handles speech → text.\n",
    "- pyttsx3 → handles text → speech (so your computer can “talk back”)."
   ]
  },
  {
   "cell_type": "markdown",
   "id": "6cc6a0d9",
   "metadata": {},
   "source": [
    "### 3) Minimal microphone example"
   ]
  },
  {
   "cell_type": "code",
   "execution_count": 15,
   "id": "52ffe4dd",
   "metadata": {},
   "outputs": [
    {
     "name": "stdout",
     "output_type": "stream",
     "text": [
      "Calibrating for ambient noise...\n",
      "Please say something...\n",
      "Sorry, I could not understand the audio.\n"
     ]
    }
   ],
   "source": [
    "r=sr.Recognizer()\n",
    "with sr.Microphone() as source:\n",
    "    print(\"Calibrating for ambient noise...\")\n",
    "    r.adjust_for_ambient_noise(source,duration=2)\n",
    "    print(\"Please say something...\")\n",
    "    audio=r.listen(source)\n",
    "\n",
    "try:\n",
    "    text=r.recognize_google(audio)\n",
    "    print(\"You said:\",text)\n",
    "except sr.UnknownValueError:\n",
    "    print(\"Sorry, I could not understand the audio.\")\n",
    "except sr.RequestError as e:\n",
    "    print(\"Could not request results; {0}\".format(e))"
   ]
  },
  {
   "cell_type": "markdown",
   "id": "f6ebd76b",
   "metadata": {},
   "source": [
    "Explanation \n",
    "\n",
    "1. `import speech_recognition as sr` — import the package and alias it sr (common convention).\n",
    "\n",
    "2. `r = sr.Recognizer()` — create the central Recognizer instance. It holds thresholds and exposes `listen, record, and recognize_*` methods. \n",
    "Real Python\n",
    "\n",
    "3. `with sr.Microphone() as source:` — open the default system microphone as an audio source (context manager ensures cleanup). You can pass` device_index=` to pick another input device (see device selection below).\n",
    "\n",
    "4. `adjust_for_ambient_noise(source, duration=1)` — samples 1 second of ambient noise and sets an internal `energy_threshold` so short background hum doesn’t trigger recognition. Important in noisy environments.\n",
    "\n",
    "5. `audio = r.listen(source)` — blocks and records until it detects a pause (end of phrase). You can pass `timeout` and `phrase_time_limit` to control waiting/length.\n",
    "\n",
    "6. `text = r.recognize_google(audio)` — sends the audio to Google’s free web API and returns the most likely transcript (requires internet). You can pass `language='en-US'` and `show_all=True` (to see full API JSON).\n",
    "\n",
    "7. `sr.UnknownValueError` — raised when speech was unintelligible.\n",
    "\n",
    "8. `sr.RequestError` — raised for network/API errors (e.g., no internet)."
   ]
  },
  {
   "cell_type": "markdown",
   "id": "d667c98a",
   "metadata": {},
   "source": [
    "### 4) Using an audio file (wav/mp3)"
   ]
  },
  {
   "cell_type": "code",
   "execution_count": 16,
   "id": "9ef38c64",
   "metadata": {},
   "outputs": [
    {
     "name": "stdout",
     "output_type": "stream",
     "text": [
      "You said: hello how are you\n"
     ]
    }
   ],
   "source": [
    "import speech_recognition as sr\n",
    "r=sr.Recognizer()\n",
    "with sr.AudioFile('demo.wav') as source:\n",
    "    audio=r.record(source)\n",
    "\n",
    "text=r.recognize_google(audio)\n",
    "print(\"You said:\",text)"
   ]
  },
  {
   "cell_type": "markdown",
   "id": "b8703473",
   "metadata": {},
   "source": [
    "Notes:\n",
    "\n",
    "- `sr.AudioFile` supports common formats if `ffmpeg/pydub` handles conversion; otherwise, stick to WAV (16-bit PCM) for best compatibility. Use pydub to convert MP3→WAV if needed."
   ]
  },
  {
   "cell_type": "markdown",
   "id": "8c1241d6",
   "metadata": {},
   "source": [
    "### 5) Save/inspect raw audio data"
   ]
  },
  {
   "cell_type": "code",
   "execution_count": 17,
   "id": "b069c0cd",
   "metadata": {},
   "outputs": [],
   "source": [
    "wav_bytes=audio.get_wav_data()\n",
    "with open(\"mic_capture.wav\",\"wb\") as f:\n",
    "    f.write(wav_bytes)\n",
    "    "
   ]
  },
  {
   "cell_type": "markdown",
   "id": "b4060855",
   "metadata": {},
   "source": [
    "This writes a standard WAV file you can open in Audacity for debugging."
   ]
  },
  {
   "cell_type": "markdown",
   "id": "3a43fc3a",
   "metadata": {},
   "source": [
    "### 6) Choosing microphone device (list names + pick index)"
   ]
  },
  {
   "cell_type": "code",
   "execution_count": 27,
   "id": "9f6dd227",
   "metadata": {},
   "outputs": [
    {
     "name": "stdout",
     "output_type": "stream",
     "text": [
      "0 Built-in Microphone\n",
      "1 Built-in Output\n",
      "2 ZoomAudioDevice\n"
     ]
    }
   ],
   "source": [
    "for i, name in enumerate(sr.Microphone.list_microphone_names()):\n",
    "    print(i,name)\n",
    "mic=sr.Microphone(device_index=2)\n"
   ]
  },
  {
   "cell_type": "markdown",
   "id": "162bb0ef",
   "metadata": {},
   "source": [
    "If your code is picking the wrong mic (webcam mic vs headset), use this to choose."
   ]
  },
  {
   "cell_type": "markdown",
   "id": "5e81125b",
   "metadata": {},
   "source": [
    "### 7) Robust helper: recognize_speech_from_mic()\n",
    "This is a resilient helper that returns a dict {success, error, transcription} — handy for UIs."
   ]
  },
  {
   "cell_type": "code",
   "execution_count": 28,
   "id": "9e229362",
   "metadata": {},
   "outputs": [],
   "source": [
    "def recognize_speech_from_mic(recognizer, microphone):\n",
    "    if not isinstance(recognizer,sr.Recognizer):\n",
    "        print(\"`recognizer` must be `Recognizer` instance\")\n",
    "    \n",
    "    if not isinstance(microphone,sr.Microphone):\n",
    "        print(\"`microphone` must be `Microphone` instance\")\n",
    "    # record\n",
    "    with microphone as source:\n",
    "        recognizer.adjust_for_ambient_noise(source)\n",
    "        audio=recognizer.listen(source)\n",
    "    response={\"success\":True,\"error\":None,\"transcription\":None}\n",
    "    # try recognizing\n",
    "    try:\n",
    "        response[\"transcription\"]=recognizer.recognize_google(audio)\n",
    "    except sr.RequestError:\n",
    "        response[\"success\"]=False\n",
    "        response[\"error\"]=\"API unavailable\"\n",
    "    except sr.UnknownValueError:\n",
    "        response[\"error\"]=\"Unable to recognize speech\"\n",
    "    return response\n"
   ]
  },
  {
   "cell_type": "code",
   "execution_count": 29,
   "id": "8cec334a",
   "metadata": {},
   "outputs": [
    {
     "name": "stdout",
     "output_type": "stream",
     "text": [
      "Result: {'success': True, 'error': None, 'transcription': 'hello hello hello hello hello hello hello hello hello hello hello hello hello hello hello hello hello hello hello hello hello hello hello hello hello'}\n"
     ]
    }
   ],
   "source": [
    "if __name__ == \"__main__\":\n",
    "    recognizer = sr.Recognizer()\n",
    "    microphone = sr.Microphone()\n",
    "\n",
    "    result = recognize_speech_from_mic(recognizer, microphone)\n",
    "    print(\"Result:\", result)"
   ]
  },
  {
   "cell_type": "markdown",
   "id": "7f84143d",
   "metadata": {},
   "source": [
    "\n",
    "This pattern (validate → capture → try/except → return structured result) is ideal for apps where you need to show errors and allow retries. "
   ]
  },
  {
   "cell_type": "markdown",
   "id": "b0442f50",
   "metadata": {},
   "source": [
    "### 8) Background listening (non-blocking)\n",
    "Use listen_in_background() to get continuous/async cues."
   ]
  },
  {
   "cell_type": "code",
   "execution_count": 32,
   "id": "f934eb76",
   "metadata": {},
   "outputs": [
    {
     "name": "stdout",
     "output_type": "stream",
     "text": [
      "You said: hello how are you\n"
     ]
    }
   ],
   "source": [
    "import time\n",
    "def callback(recognizer,audio):\n",
    "    try:\n",
    "        text=recognizer.recognize_google(audio)\n",
    "        print(\"You said:\",text)\n",
    "    except sr.UnknownValueError:\n",
    "        print(\"Sorry, I could not understand the audio.\")\n",
    "    except sr.RequestError as e:\n",
    "        print(\"Could not request results; {0}\".format(e))\n",
    "\n",
    "r=sr.Recognizer()\n",
    "stop_listening=r.listen_in_background(sr.Microphone(),callback)\n",
    "\n",
    "time.sleep(10)\n",
    "stop_listening()  # stop background listening"
   ]
  },
  {
   "cell_type": "markdown",
   "id": "94f5df58",
   "metadata": {},
   "source": [
    "Explanation:\n",
    "\n",
    "- `listen_in_background(source, callback)` spawns a background thread and returns a function you call to stop it. Useful for voice assistants. \n",
    "PyPI\n",
    "\n",
    "Caveat: mixing background threads and GUI event loops can be tricky — test carefully."
   ]
  },
  {
   "cell_type": "markdown",
   "id": "6d3c55f1",
   "metadata": {},
   "source": [
    "### 9) Offline recognition with PocketSphinx\n",
    "If you need zero-internet recognition (lower accuracy), use PocketSphinx."
   ]
  },
  {
   "cell_type": "code",
   "execution_count": 34,
   "id": "583044b6",
   "metadata": {},
   "outputs": [
    {
     "name": "stdout",
     "output_type": "stream",
     "text": [
      "Sphinx thinks you said: and that these two three you\n"
     ]
    }
   ],
   "source": [
    "r=sr.Recognizer()\n",
    "with sr.Microphone() as source:\n",
    "    audio=r.listen(source)\n",
    "try:\n",
    "    print(\"Sphinx thinks you said:\", r.recognize_sphinx(audio))\n",
    "except sr.UnknownValueError:\n",
    "    print(\"Sphinx could not understand audio\")\n",
    "except sr.RequestError as e:\n",
    "    print(\"Sphinx error; {0}\".format(e))"
   ]
  },
  {
   "cell_type": "markdown",
   "id": "394a0ed4",
   "metadata": {},
   "source": [
    "Notes:\n",
    "\n",
    "`pocketsphinx` must be installed (`pip install pocketsphinx`). It ships a default English model, but accuracy varies by accent and recording quality. For better results you can provide custom acoustic/language models."
   ]
  },
  {
   "cell_type": "markdown",
   "id": "cf99e621",
   "metadata": {},
   "source": [
    "### 10) TTS: `pyttsx3` (local, offline) "
   ]
  },
  {
   "cell_type": "code",
   "execution_count": 2,
   "id": "2e443582",
   "metadata": {},
   "outputs": [],
   "source": [
    "import pyttsx3\n",
    "engine = pyttsx3.init()              # start the TTS engine\n",
    "\n",
    "voices = engine.getProperty('voices')# list available voices\n",
    "engine.setProperty('voice', voices[0].id)   # choose voice index\n",
    "engine.setProperty('rate', 150)      # speech rate (words per minute)\n",
    "engine.setProperty('volume', 0.9)    # 0.0 to 1.0\n",
    "\n",
    "engine.say(\"Hello world from pyttsx3\")  # queue this text\n",
    "engine.runAndWait()                      # actually speak and block until done\n"
   ]
  },
  {
   "cell_type": "markdown",
   "id": "a92e3373",
   "metadata": {},
   "source": [
    "Key points:\n",
    "\n",
    "- `pyttsx3` uses local platform drivers (SAPI5 on Windows, NSSpeechSynthesizer on macOS, espeak on Linux). Works offline and has `save_to_file()` to write audio files"
   ]
  },
  {
   "cell_type": "markdown",
   "id": "88d1808f",
   "metadata": {},
   "source": [
    "### 11) TTS in Google Colab: use gTTS + IPython.display.Audio\n",
    "Colab runs on remote servers with no attached “local” speaker. Instead, produce an mp3 and let the browser play it."
   ]
  },
  {
   "cell_type": "code",
   "execution_count": 39,
   "id": "2b317901",
   "metadata": {},
   "outputs": [
    {
     "name": "stdout",
     "output_type": "stream",
     "text": [
      "Requirement already satisfied: gTTS in /opt/anaconda3/envs/fellowship_env/lib/python3.11/site-packages (2.5.4)\n",
      "Requirement already satisfied: requests<3,>=2.27 in /opt/anaconda3/envs/fellowship_env/lib/python3.11/site-packages (from gTTS) (2.32.5)\n",
      "Requirement already satisfied: click<8.2,>=7.1 in /opt/anaconda3/envs/fellowship_env/lib/python3.11/site-packages (from gTTS) (8.1.8)\n",
      "Requirement already satisfied: charset_normalizer<4,>=2 in /opt/anaconda3/envs/fellowship_env/lib/python3.11/site-packages (from requests<3,>=2.27->gTTS) (3.4.3)\n",
      "Requirement already satisfied: idna<4,>=2.5 in /opt/anaconda3/envs/fellowship_env/lib/python3.11/site-packages (from requests<3,>=2.27->gTTS) (3.10)\n",
      "Requirement already satisfied: urllib3<3,>=1.21.1 in /opt/anaconda3/envs/fellowship_env/lib/python3.11/site-packages (from requests<3,>=2.27->gTTS) (2.5.0)\n",
      "Requirement already satisfied: certifi>=2017.4.17 in /opt/anaconda3/envs/fellowship_env/lib/python3.11/site-packages (from requests<3,>=2.27->gTTS) (2025.8.3)\n"
     ]
    }
   ],
   "source": [
    "!pip install gTTS\n"
   ]
  },
  {
   "cell_type": "code",
   "execution_count": 40,
   "id": "4d252f6e",
   "metadata": {},
   "outputs": [
    {
     "data": {
      "text/html": [
       "\n",
       "                <audio  controls=\"controls\" autoplay=\"autoplay\">\n",
       "                    <source src=\"data:audio/mpeg;base64,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\" type=\"audio/mpeg\" />\n",
       "                    Your browser does not support the audio element.\n",
       "                </audio>\n",
       "              "
      ],
      "text/plain": [
       "<IPython.lib.display.Audio object>"
      ]
     },
     "execution_count": 40,
     "metadata": {},
     "output_type": "execute_result"
    }
   ],
   "source": [
    "from gtts import gTTS\n",
    "from IPython.display import Audio\n",
    "tts=gTTS(\"Hello world from gTTS\",lang='en')\n",
    "tts.save(\"gtts_hello.mp3\")\n",
    "Audio(\"gtts_hello.mp3\",autoplay=True)"
   ]
  },
  {
   "cell_type": "markdown",
   "id": "83d427eb",
   "metadata": {},
   "source": [
    "This works in Colab since the notebook returns an audio blob the browser plays. Use this pattern when prototyping in notebooks."
   ]
  },
  {
   "cell_type": "markdown",
   "id": "61afa64c",
   "metadata": {},
   "source": [
    "12) Advanced tuning & tips\n",
    "\n",
    "- **Energy thresholds**\n",
    "\n",
    "`r.energy_threshold` is the minimum audio energy to consider as speech. `r.dynamic_energy_threshold = True` allows automatic adjustment. If you have very quiet or very loud environment, tune `energy_threshold` manually or increase ambient noise calibration duration. \n",
    "\n",
    "- **Timeouts / phrase_time_limit**\n",
    "\n",
    "- `listen(source, timeout=5, phrase_time_limit=4) — timeout` raises if nothing heard in N seconds, phrase_time_limit forcibly stops after N seconds of speech.\n",
    "\n",
    "- **show_all / alternatives**\n",
    "\n",
    "- `recognize_google(audio, show_all=True)` returns the full JSON from Google (possible alternative transcriptions and confidences) — helpful for debugging.\n",
    "\n",
    "**Preprocessing for better accuracy**\n",
    "- Use noise reduction, band-pass filters, resampling to 16kHz, and normalize audio amplitude. `pydub + scipy` can help. Many cloud STT systems expect 16kHz/16-bit mono PCM.\n",
    "\n",
    "- **Use cloud services for higher accuracy**\n",
    "- Google Cloud Speech-to-Text, Azure, IBM, and others provide state-of-the-art accuracy but require credentials and may bill you. The `speech_recognition` package provides convenience wrappers (`recognize_google_cloud, recognize_ibm, recognize_bing`). See the GitHub/official docs for parameter details. \n",
    "GitHub\n",
    "\n",
    "- **Long audio / streaming**\n",
    "- For long recordings break them into chunks or use a streaming API (cloud providers offer streaming endpoints). Chunking helps avoid hitting request size/time limits.\n"
   ]
  },
  {
   "cell_type": "markdown",
   "id": "6d3ece4b",
   "metadata": {},
   "source": [
    "\n",
    "### 13) Common pitfalls & debugging checklist\n",
    "\n",
    "- No sound in Colab → pyttsx3 won’t play (remote server). `Use gTTS + IPython.display.Audio`. \n",
    "- Microphone index wrong → list microphones with `sr.Microphone.list_microphone_names()`.\n",
    "- Poor transcription → noisy audio, wrong sampling rate, or bad mic. Try `adjust_for_ambient_noise`, higher-quality mic, or a cloud STT.\n",
    "- `RequestError` → check internet or API keys/limits.\n",
    "- `UnknownValueError` → the recognizer didn’t confidently parse speech — try `show_all=True` to inspect alternatives."
   ]
  },
  {
   "cell_type": "markdown",
   "id": "6146807c",
   "metadata": {},
   "source": [
    "### 14) A small “complete” example (recognize mic + respond)"
   ]
  },
  {
   "cell_type": "code",
   "execution_count": 41,
   "id": "8bc9415f",
   "metadata": {},
   "outputs": [
    {
     "name": "stdout",
     "output_type": "stream",
     "text": [
      "Calibrating for ambient noise...\n",
      "Please say something...\n",
      "You said: hello how r u hello\n"
     ]
    }
   ],
   "source": [
    "import speech_recognition as sr\n",
    "import pyttsx3\n",
    "r=sr.Recognizer()\n",
    "engine=pyttsx3.init()\n",
    "\n",
    "def speak(text):\n",
    "    engine.say(text)\n",
    "    engine.runAndWait()\n",
    "\n",
    "with sr.Microphone() as source:\n",
    "    print(\"Calibrating for ambient noise...\")\n",
    "    r.adjust_for_ambient_noise(source,duration=2)\n",
    "    print(\"Please say something...\")\n",
    "    audio=r.listen(source)\n",
    "try:\n",
    "    txt = r.recognize_google(audio)\n",
    "    print(\"You said:\", txt)\n",
    "    speak(\"You said \" + txt)\n",
    "except sr.UnknownValueError:\n",
    "    print(\"Could not understand\")\n",
    "    speak(\"I could not understand you\")\n",
    "except sr.RequestError as e:\n",
    "    print(\"Request failed; {0}\".format(e))\n",
    "    speak(\"Sorry, the speech service is unavailable\")"
   ]
  },
  {
   "cell_type": "code",
   "execution_count": null,
   "id": "bc3d88f9",
   "metadata": {},
   "outputs": [],
   "source": []
  }
 ],
 "metadata": {
  "kernelspec": {
   "display_name": "fellowship_env",
   "language": "python",
   "name": "python3"
  },
  "language_info": {
   "codemirror_mode": {
    "name": "ipython",
    "version": 3
   },
   "file_extension": ".py",
   "mimetype": "text/x-python",
   "name": "python",
   "nbconvert_exporter": "python",
   "pygments_lexer": "ipython3",
   "version": "3.11.13"
  }
 },
 "nbformat": 4,
 "nbformat_minor": 5
}
