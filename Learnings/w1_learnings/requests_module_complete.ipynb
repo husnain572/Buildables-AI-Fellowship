{
 "cells": [
  {
   "cell_type": "markdown",
   "id": "42409417",
   "metadata": {},
   "source": [
    "# **Python `requests` Module – Complete Guide with Theory & Practice**\n",
    "---\n",
    "## **1. Introduction to `requests`**\n",
    "\n",
    "**Theory:**\n",
    "\n",
    "- `requests` is a Python library for sending HTTP requests to APIs and websites.\n",
    "- It simplifies making GET, POST, PUT, DELETE, and other HTTP requests without manually handling sockets or encoding.\n",
    "- Commonly used in:\n",
    "\n",
    "    - Fetching API data\n",
    "    - Web scraping\n",
    "    - Automating website interactions\n",
    "    - Sending form data\n",
    "\n",
    "- It automatically handles:\n",
    "    - URL encoding\n",
    "    - Headers\n",
    "    - Cookies\n",
    "    - JSON parsing\n",
    "**Install:**"
   ]
  },
  {
   "cell_type": "code",
   "execution_count": null,
   "id": "69453bb8",
   "metadata": {},
   "outputs": [],
   "source": [
    "!pip install requests"
   ]
  },
  {
   "cell_type": "markdown",
   "id": "ad1ae617",
   "metadata": {},
   "source": [
    "## **2. Basic GET Request**\n",
    "**Theory:**\n",
    "- `GET` is used to retrieve information from a server.\n",
    "- Example: Getting weather data, news articles, or product prices.\n",
    "- The server sends back a response containing:\n",
    "    - `status_code` → HTTP status (200 OK, 404 Not Found)\n",
    "    - `headers` → Metadata about the response\n",
    "    - `text` → Raw HTML/Text\n",
    "    - `json()` → Parsed JSON data"
   ]
  },
  {
   "cell_type": "code",
   "execution_count": 3,
   "id": "8f836dda",
   "metadata": {},
   "outputs": [
    {
     "name": "stdout",
     "output_type": "stream",
     "text": [
      "Response : <Response [200]>\n",
      "Status Code: 200\n",
      "Text: {\n",
      "  \"userId\": 1,\n",
      "  \"id\": 1,\n",
      "  \"title\": \"sunt aut facere repellat provident occaecati excepturi optio reprehenderit\",\n",
      "  \"body\": \"quia et suscipit\\nsuscipit recusandae consequuntur expedita et cum\\nreprehenderit molestiae ut ut quas totam\\nnostrum rerum est autem sunt rem eveniet architecto\"\n",
      "}\n",
      "JSON: {'userId': 1, 'id': 1, 'title': 'sunt aut facere repellat provident occaecati excepturi optio reprehenderit', 'body': 'quia et suscipit\\nsuscipit recusandae consequuntur expedita et cum\\nreprehenderit molestiae ut ut quas totam\\nnostrum rerum est autem sunt rem eveniet architecto'}\n"
     ]
    }
   ],
   "source": [
    "import requests\n",
    "\n",
    "response = requests.get(\"https://jsonplaceholder.typicode.com/posts/1\")\n",
    "\n",
    "print(\"Response :\",response)\n",
    "print(\"Status Code:\", response.status_code)\n",
    "print(\"Text:\", response.text)\n",
    "print(\"JSON:\", response.json())"
   ]
  },
  {
   "cell_type": "markdown",
   "id": "1affa8ff",
   "metadata": {},
   "source": [
    "**Exercise:** Make a GET request to `https://api.github.com` and print the JSON response."
   ]
  },
  {
   "cell_type": "code",
   "execution_count": 6,
   "id": "c01417f3",
   "metadata": {},
   "outputs": [
    {
     "name": "stdout",
     "output_type": "stream",
     "text": [
      "Response : <Response [200]>\n",
      "Status Code: 200\n",
      "Text: {\n",
      "  \"current_user_url\": \"https://api.github.com/user\",\n",
      "  \"current_user_authorizations_html_url\": \"https://github.com/settings/connections/applications{/client_id}\",\n",
      "  \"authorizations_url\": \"https://api.github.com/authorizations\",\n",
      "  \"code_search_url\": \"https://api.github.com/search/code?q={query}{&page,per_page,sort,order}\",\n",
      "  \"commit_search_url\": \"https://api.github.com/search/commits?q={query}{&page,per_page,sort,order}\",\n",
      "  \"emails_url\": \"https://api.github.com/user/emails\",\n",
      "  \"emojis_url\": \"https://api.github.com/emojis\",\n",
      "  \"events_url\": \"https://api.github.com/events\",\n",
      "  \"feeds_url\": \"https://api.github.com/feeds\",\n",
      "  \"followers_url\": \"https://api.github.com/user/followers\",\n",
      "  \"following_url\": \"https://api.github.com/user/following{/target}\",\n",
      "  \"gists_url\": \"https://api.github.com/gists{/gist_id}\",\n",
      "  \"hub_url\": \"https://api.github.com/hub\",\n",
      "  \"issue_search_url\": \"https://api.github.com/search/issues?q={query}{&page,per_page,sort,order}\",\n",
      "  \"issues_url\": \"https://api.github.com/issues\",\n",
      "  \"keys_url\": \"https://api.github.com/user/keys\",\n",
      "  \"label_search_url\": \"https://api.github.com/search/labels?q={query}&repository_id={repository_id}{&page,per_page}\",\n",
      "  \"notifications_url\": \"https://api.github.com/notifications\",\n",
      "  \"organization_url\": \"https://api.github.com/orgs/{org}\",\n",
      "  \"organization_repositories_url\": \"https://api.github.com/orgs/{org}/repos{?type,page,per_page,sort}\",\n",
      "  \"organization_teams_url\": \"https://api.github.com/orgs/{org}/teams\",\n",
      "  \"public_gists_url\": \"https://api.github.com/gists/public\",\n",
      "  \"rate_limit_url\": \"https://api.github.com/rate_limit\",\n",
      "  \"repository_url\": \"https://api.github.com/repos/{owner}/{repo}\",\n",
      "  \"repository_search_url\": \"https://api.github.com/search/repositories?q={query}{&page,per_page,sort,order}\",\n",
      "  \"current_user_repositories_url\": \"https://api.github.com/user/repos{?type,page,per_page,sort}\",\n",
      "  \"starred_url\": \"https://api.github.com/user/starred{/owner}{/repo}\",\n",
      "  \"starred_gists_url\": \"https://api.github.com/gists/starred\",\n",
      "  \"topic_search_url\": \"https://api.github.com/search/topics?q={query}{&page,per_page}\",\n",
      "  \"user_url\": \"https://api.github.com/users/{user}\",\n",
      "  \"user_organizations_url\": \"https://api.github.com/user/orgs\",\n",
      "  \"user_repositories_url\": \"https://api.github.com/users/{user}/repos{?type,page,per_page,sort}\",\n",
      "  \"user_search_url\": \"https://api.github.com/search/users?q={query}{&page,per_page,sort,order}\"\n",
      "}\n",
      "\n",
      "JSON: {'current_user_url': 'https://api.github.com/user', 'current_user_authorizations_html_url': 'https://github.com/settings/connections/applications{/client_id}', 'authorizations_url': 'https://api.github.com/authorizations', 'code_search_url': 'https://api.github.com/search/code?q={query}{&page,per_page,sort,order}', 'commit_search_url': 'https://api.github.com/search/commits?q={query}{&page,per_page,sort,order}', 'emails_url': 'https://api.github.com/user/emails', 'emojis_url': 'https://api.github.com/emojis', 'events_url': 'https://api.github.com/events', 'feeds_url': 'https://api.github.com/feeds', 'followers_url': 'https://api.github.com/user/followers', 'following_url': 'https://api.github.com/user/following{/target}', 'gists_url': 'https://api.github.com/gists{/gist_id}', 'hub_url': 'https://api.github.com/hub', 'issue_search_url': 'https://api.github.com/search/issues?q={query}{&page,per_page,sort,order}', 'issues_url': 'https://api.github.com/issues', 'keys_url': 'https://api.github.com/user/keys', 'label_search_url': 'https://api.github.com/search/labels?q={query}&repository_id={repository_id}{&page,per_page}', 'notifications_url': 'https://api.github.com/notifications', 'organization_url': 'https://api.github.com/orgs/{org}', 'organization_repositories_url': 'https://api.github.com/orgs/{org}/repos{?type,page,per_page,sort}', 'organization_teams_url': 'https://api.github.com/orgs/{org}/teams', 'public_gists_url': 'https://api.github.com/gists/public', 'rate_limit_url': 'https://api.github.com/rate_limit', 'repository_url': 'https://api.github.com/repos/{owner}/{repo}', 'repository_search_url': 'https://api.github.com/search/repositories?q={query}{&page,per_page,sort,order}', 'current_user_repositories_url': 'https://api.github.com/user/repos{?type,page,per_page,sort}', 'starred_url': 'https://api.github.com/user/starred{/owner}{/repo}', 'starred_gists_url': 'https://api.github.com/gists/starred', 'topic_search_url': 'https://api.github.com/search/topics?q={query}{&page,per_page}', 'user_url': 'https://api.github.com/users/{user}', 'user_organizations_url': 'https://api.github.com/user/orgs', 'user_repositories_url': 'https://api.github.com/users/{user}/repos{?type,page,per_page,sort}', 'user_search_url': 'https://api.github.com/search/users?q={query}{&page,per_page,sort,order}'}\n"
     ]
    }
   ],
   "source": [
    "import requests\n",
    "\n",
    "response = requests.get(\"https://api.github.com\")\n",
    "\n",
    "print(\"Response :\",response)\n",
    "print(\"Status Code:\", response.status_code)\n",
    "print(\"Text:\", response.text)\n",
    "print(\"JSON:\", response.json())"
   ]
  },
  {
   "cell_type": "markdown",
   "id": "a738b5d7",
   "metadata": {},
   "source": [
    "## **3. Sending Query Parameters**\n",
    "**Theory:**\n",
    "- Query parameters allow you to filter or customize the request.\n",
    "- Example: `?userId=1` filters posts for a specific user.\n",
    "- In `requests`, you can pass parameters using the `params` argument."
   ]
  },
  {
   "cell_type": "code",
   "execution_count": 8,
   "id": "34214471",
   "metadata": {},
   "outputs": [
    {
     "name": "stdout",
     "output_type": "stream",
     "text": [
      "[{'userId': 1, 'id': 1, 'title': 'sunt aut facere repellat provident occaecati excepturi optio reprehenderit', 'body': 'quia et suscipit\\nsuscipit recusandae consequuntur expedita et cum\\nreprehenderit molestiae ut ut quas totam\\nnostrum rerum est autem sunt rem eveniet architecto'}, {'userId': 1, 'id': 2, 'title': 'qui est esse', 'body': 'est rerum tempore vitae\\nsequi sint nihil reprehenderit dolor beatae ea dolores neque\\nfugiat blanditiis voluptate porro vel nihil molestiae ut reiciendis\\nqui aperiam non debitis possimus qui neque nisi nulla'}, {'userId': 1, 'id': 3, 'title': 'ea molestias quasi exercitationem repellat qui ipsa sit aut', 'body': 'et iusto sed quo iure\\nvoluptatem occaecati omnis eligendi aut ad\\nvoluptatem doloribus vel accusantium quis pariatur\\nmolestiae porro eius odio et labore et velit aut'}, {'userId': 1, 'id': 4, 'title': 'eum et est occaecati', 'body': 'ullam et saepe reiciendis voluptatem adipisci\\nsit amet autem assumenda provident rerum culpa\\nquis hic commodi nesciunt rem tenetur doloremque ipsam iure\\nquis sunt voluptatem rerum illo velit'}, {'userId': 1, 'id': 5, 'title': 'nesciunt quas odio', 'body': 'repudiandae veniam quaerat sunt sed\\nalias aut fugiat sit autem sed est\\nvoluptatem omnis possimus esse voluptatibus quis\\nest aut tenetur dolor neque'}, {'userId': 1, 'id': 6, 'title': 'dolorem eum magni eos aperiam quia', 'body': 'ut aspernatur corporis harum nihil quis provident sequi\\nmollitia nobis aliquid molestiae\\nperspiciatis et ea nemo ab reprehenderit accusantium quas\\nvoluptate dolores velit et doloremque molestiae'}, {'userId': 1, 'id': 7, 'title': 'magnam facilis autem', 'body': 'dolore placeat quibusdam ea quo vitae\\nmagni quis enim qui quis quo nemo aut saepe\\nquidem repellat excepturi ut quia\\nsunt ut sequi eos ea sed quas'}, {'userId': 1, 'id': 8, 'title': 'dolorem dolore est ipsam', 'body': 'dignissimos aperiam dolorem qui eum\\nfacilis quibusdam animi sint suscipit qui sint possimus cum\\nquaerat magni maiores excepturi\\nipsam ut commodi dolor voluptatum modi aut vitae'}, {'userId': 1, 'id': 9, 'title': 'nesciunt iure omnis dolorem tempora et accusantium', 'body': 'consectetur animi nesciunt iure dolore\\nenim quia ad\\nveniam autem ut quam aut nobis\\net est aut quod aut provident voluptas autem voluptas'}, {'userId': 1, 'id': 10, 'title': 'optio molestias id quia eum', 'body': 'quo et expedita modi cum officia vel magni\\ndoloribus qui repudiandae\\nvero nisi sit\\nquos veniam quod sed accusamus veritatis error'}]\n"
     ]
    }
   ],
   "source": [
    "params = {'userId': 1}\n",
    "response = requests.get(\"https://jsonplaceholder.typicode.com/posts\", params=params)\n",
    "print(response.json())"
   ]
  },
  {
   "cell_type": "markdown",
   "id": "0392176a",
   "metadata": {},
   "source": [
    "**Exercise:** Fetch posts where `userId = 2`."
   ]
  },
  {
   "cell_type": "code",
   "execution_count": 10,
   "id": "60b04176",
   "metadata": {},
   "outputs": [
    {
     "name": "stdout",
     "output_type": "stream",
     "text": [
      "[{'userId': 2, 'id': 11, 'title': 'et ea vero quia laudantium autem', 'body': 'delectus reiciendis molestiae occaecati non minima eveniet qui voluptatibus\\naccusamus in eum beatae sit\\nvel qui neque voluptates ut commodi qui incidunt\\nut animi commodi'}, {'userId': 2, 'id': 12, 'title': 'in quibusdam tempore odit est dolorem', 'body': 'itaque id aut magnam\\npraesentium quia et ea odit et ea voluptas et\\nsapiente quia nihil amet occaecati quia id voluptatem\\nincidunt ea est distinctio odio'}, {'userId': 2, 'id': 13, 'title': 'dolorum ut in voluptas mollitia et saepe quo animi', 'body': 'aut dicta possimus sint mollitia voluptas commodi quo doloremque\\niste corrupti reiciendis voluptatem eius rerum\\nsit cumque quod eligendi laborum minima\\nperferendis recusandae assumenda consectetur porro architecto ipsum ipsam'}, {'userId': 2, 'id': 14, 'title': 'voluptatem eligendi optio', 'body': 'fuga et accusamus dolorum perferendis illo voluptas\\nnon doloremque neque facere\\nad qui dolorum molestiae beatae\\nsed aut voluptas totam sit illum'}, {'userId': 2, 'id': 15, 'title': 'eveniet quod temporibus', 'body': 'reprehenderit quos placeat\\nvelit minima officia dolores impedit repudiandae molestiae nam\\nvoluptas recusandae quis delectus\\nofficiis harum fugiat vitae'}, {'userId': 2, 'id': 16, 'title': 'sint suscipit perspiciatis velit dolorum rerum ipsa laboriosam odio', 'body': 'suscipit nam nisi quo aperiam aut\\nasperiores eos fugit maiores voluptatibus quia\\nvoluptatem quis ullam qui in alias quia est\\nconsequatur magni mollitia accusamus ea nisi voluptate dicta'}, {'userId': 2, 'id': 17, 'title': 'fugit voluptas sed molestias voluptatem provident', 'body': 'eos voluptas et aut odit natus earum\\naspernatur fuga molestiae ullam\\ndeserunt ratione qui eos\\nqui nihil ratione nemo velit ut aut id quo'}, {'userId': 2, 'id': 18, 'title': 'voluptate et itaque vero tempora molestiae', 'body': 'eveniet quo quis\\nlaborum totam consequatur non dolor\\nut et est repudiandae\\nest voluptatem vel debitis et magnam'}, {'userId': 2, 'id': 19, 'title': 'adipisci placeat illum aut reiciendis qui', 'body': 'illum quis cupiditate provident sit magnam\\nea sed aut omnis\\nveniam maiores ullam consequatur atque\\nadipisci quo iste expedita sit quos voluptas'}, {'userId': 2, 'id': 20, 'title': 'doloribus ad provident suscipit at', 'body': 'qui consequuntur ducimus possimus quisquam amet similique\\nsuscipit porro ipsam amet\\neos veritatis officiis exercitationem vel fugit aut necessitatibus totam\\nomnis rerum consequatur expedita quidem cumque explicabo'}]\n"
     ]
    }
   ],
   "source": [
    "params={'userId':2}\n",
    "response=requests.get(\"https://jsonplaceholder.typicode.com/posts\",params=params)\n",
    "print(response.json())"
   ]
  },
  {
   "cell_type": "markdown",
   "id": "0bdb9c91",
   "metadata": {},
   "source": [
    "## **4. POST Request (Sending Data)**\n",
    "**Theory:**\n",
    "- `POST` sends data to the server (e.g., submitting a form, creating a record).\n",
    "- Data can be sent as:\n",
    "    - json → For APIs that accept JSON\n",
    "    - data → For form submissions\n",
    "- The server usually returns the created resource."
   ]
  },
  {
   "cell_type": "code",
   "execution_count": null,
   "id": "46fc4ed8",
   "metadata": {},
   "outputs": [],
   "source": [
    "data = {'title': 'New Post', 'body': 'This is a test', 'userId': 1}\n",
    "response = requests.post(\"https://jsonplaceholder.typicode.com/posts\", json=data)\n",
    "print(response.status_code)\n",
    "print(response.json())"
   ]
  },
  {
   "cell_type": "markdown",
   "id": "d3d7a844",
   "metadata": {},
   "source": [
    "**Exercise:** Create a new post with your name in the title."
   ]
  },
  {
   "cell_type": "code",
   "execution_count": 14,
   "id": "5963f4a9",
   "metadata": {},
   "outputs": [
    {
     "name": "stdout",
     "output_type": "stream",
     "text": [
      "201\n",
      "{'title': 'Muhammad Husnain', 'body': 'This is my name', 'userId': 512, 'id': 101}\n"
     ]
    }
   ],
   "source": [
    "data={'title':\"Muhammad Husnain\",'body':\"This is my name\",'userId':512}\n",
    "response=requests.post(\"https://jsonplaceholder.typicode.com/posts\",json=data)\n",
    "\n",
    "print(response.status_code)\n",
    "print(response.json())"
   ]
  },
  {
   "cell_type": "markdown",
   "id": "6d64a96f",
   "metadata": {},
   "source": [
    "## **5. Custom Headers**\n",
    "**Theory:**\n",
    "- Headers give extra info to the server (e.g., authentication tokens, user-agent).\n",
    "- Some APIs require a custom header to work."
   ]
  },
  {
   "cell_type": "code",
   "execution_count": 15,
   "id": "506eb78a",
   "metadata": {},
   "outputs": [
    {
     "name": "stdout",
     "output_type": "stream",
     "text": [
      "{'headers': {'Accept': '*/*', 'Accept-Encoding': 'gzip, deflate', 'Host': 'httpbin.org', 'User-Agent': 'MyApp/1.0', 'X-Amzn-Trace-Id': 'Root=1-68a74f42-0a4edc9d7029077d05e33717'}}\n"
     ]
    }
   ],
   "source": [
    "headers = {'User-Agent': 'MyApp/1.0'}\n",
    "response = requests.get(\"https://httpbin.org/headers\", headers=headers)\n",
    "print(response.json())"
   ]
  },
  {
   "cell_type": "markdown",
   "id": "f12179b3",
   "metadata": {},
   "source": [
    "**Exercise:** Send a GET request with your name as the `User-Agent`."
   ]
  },
  {
   "cell_type": "code",
   "execution_count": 16,
   "id": "0a0a6585",
   "metadata": {},
   "outputs": [
    {
     "name": "stdout",
     "output_type": "stream",
     "text": [
      "{'headers': {'Accept': '*/*', 'Accept-Encoding': 'gzip, deflate', 'Host': 'httpbin.org', 'User-Agent': 'Husnain', 'X-Amzn-Trace-Id': 'Root=1-68a74fb5-09b11bb51e76e0ad1cf8178f;512'}}\n"
     ]
    }
   ],
   "source": [
    "headers={'User-Agent':\"Husnain\",\n",
    "         'X-Amzn-Trace-Id': '512'}\n",
    "response=requests.get(\"https://httpbin.org/headers\",headers=headers)\n",
    "print(response.json())"
   ]
  },
  {
   "cell_type": "markdown",
   "id": "6c675ae8",
   "metadata": {},
   "source": [
    "## **6. PUT & PATCH Requests**\n",
    "**Theory:**\n",
    "- `PUT` → Updates the entire resource.\n",
    "- `PATCH` → Updates only specific fields.\n",
    "- Used when modifying existing data in a database."
   ]
  },
  {
   "cell_type": "code",
   "execution_count": 17,
   "id": "2862a8ad",
   "metadata": {},
   "outputs": [
    {
     "name": "stdout",
     "output_type": "stream",
     "text": [
      "{'title': 'Updated Title', 'id': 1}\n"
     ]
    }
   ],
   "source": [
    "update_data = {'title': 'Updated Title'}\n",
    "response = requests.put(\"https://jsonplaceholder.typicode.com/posts/1\", json=update_data)\n",
    "print(response.json())"
   ]
  },
  {
   "cell_type": "code",
   "execution_count": 18,
   "id": "f857769f",
   "metadata": {},
   "outputs": [
    {
     "name": "stdout",
     "output_type": "stream",
     "text": [
      "200\n",
      "{'userId': 1, 'id': 1, 'title': 'New Title for Post 1', 'body': 'quia et suscipit\\nsuscipit recusandae consequuntur expedita et cum\\nreprehenderit molestiae ut ut quas totam\\nnostrum rerum est autem sunt rem eveniet architecto'}\n"
     ]
    }
   ],
   "source": [
    "\n",
    "# URL of an existing resource\n",
    "url = \"https://jsonplaceholder.typicode.com/posts/1\"\n",
    "\n",
    "# Only updating the title\n",
    "update_data = {\"title\": \"New Title for Post 1\"}\n",
    "\n",
    "response = requests.patch(url, json=update_data)\n",
    "\n",
    "print(response.status_code)  # Should be 200 (OK)\n",
    "print(response.json())       # Shows the updated resource"
   ]
  },
  {
   "cell_type": "markdown",
   "id": "0b97e626",
   "metadata": {},
   "source": [
    "**Exercise:** Update the body of post ID `1`."
   ]
  },
  {
   "cell_type": "code",
   "execution_count": 19,
   "id": "8e9570d4",
   "metadata": {},
   "outputs": [
    {
     "name": "stdout",
     "output_type": "stream",
     "text": [
      "{'title': 'This is just trail', 'id': 1}\n"
     ]
    }
   ],
   "source": [
    "upd_data={\"title\":\"This is just trail\"}\n",
    "response=requests.put(\"https://jsonplaceholder.typicode.com/posts/1\",json=upd_data)\n",
    "print(response.json())"
   ]
  },
  {
   "cell_type": "code",
   "execution_count": 20,
   "id": "1d3583fe",
   "metadata": {},
   "outputs": [
    {
     "name": "stdout",
     "output_type": "stream",
     "text": [
      "{'userId': 1, 'id': 2, 'title': 'Husnain Here', 'body': 'est rerum tempore vitae\\nsequi sint nihil reprehenderit dolor beatae ea dolores neque\\nfugiat blanditiis voluptate porro vel nihil molestiae ut reiciendis\\nqui aperiam non debitis possimus qui neque nisi nulla'}\n"
     ]
    }
   ],
   "source": [
    "upd_data={\"title\":\"Husnain Here\"}\n",
    "response=requests.patch(\"https://jsonplaceholder.typicode.com/posts/2\",json=upd_data)\n",
    "print(response.json())\n",
    "\n"
   ]
  },
  {
   "cell_type": "markdown",
   "id": "f7bc0849",
   "metadata": {},
   "source": [
    "## **7. DELETE Request**\n",
    "**Theory:**\n",
    "- `DELETE` removes a resource from the server."
   ]
  },
  {
   "cell_type": "code",
   "execution_count": 21,
   "id": "cbcec4d6",
   "metadata": {},
   "outputs": [
    {
     "name": "stdout",
     "output_type": "stream",
     "text": [
      "Status: 200\n"
     ]
    }
   ],
   "source": [
    "response = requests.delete(\"https://jsonplaceholder.typicode.com/posts/1\")\n",
    "print(\"Status:\", response.status_code)"
   ]
  },
  {
   "cell_type": "markdown",
   "id": "b5ac760d",
   "metadata": {},
   "source": [
    "**Exercise:** Delete post ID `2` and print confirmation."
   ]
  },
  {
   "cell_type": "code",
   "execution_count": 24,
   "id": "5e14447d",
   "metadata": {},
   "outputs": [
    {
     "name": "stdout",
     "output_type": "stream",
     "text": [
      "Status: 200\n"
     ]
    }
   ],
   "source": [
    "response=requests.delete(\"https://jsonplaceholder.typicode.com/posts/2\")\n",
    "print(\"Status:\",response.status_code)"
   ]
  },
  {
   "cell_type": "markdown",
   "id": "f8352321",
   "metadata": {},
   "source": [
    "## **8. Handling Timeouts**\n",
    "**Theory:**\n",
    "- If a server is slow, your program might get stuck.\n",
    "- Use `timeout` to limit how long the request waits."
   ]
  },
  {
   "cell_type": "code",
   "execution_count": null,
   "id": "0ed2ce42",
   "metadata": {},
   "outputs": [],
   "source": [
    "try:\n",
    "    response = requests.get(\"https://httpbin.org/delay/3\", timeout=2)\n",
    "except requests.Timeout:\n",
    "    print(\"Request timed out!\")"
   ]
  },
  {
   "cell_type": "markdown",
   "id": "73e0372c",
   "metadata": {},
   "source": [
    "**Exercise:** Request a delayed URL with a short timeout."
   ]
  },
  {
   "cell_type": "code",
   "execution_count": 29,
   "id": "3a1c6996",
   "metadata": {},
   "outputs": [
    {
     "name": "stdout",
     "output_type": "stream",
     "text": [
      "Request Time Out!\n"
     ]
    }
   ],
   "source": [
    "try:\n",
    "    response=requests.get(\"https://jsonplaceholder.typicode.com/posts/2\",timeout=0.1)\n",
    "except requests.Timeout:\n",
    "    print(\"Request Time Out!\")"
   ]
  },
  {
   "cell_type": "markdown",
   "id": "1e001603",
   "metadata": {},
   "source": [
    "## **9. Sessions (Cookies & Persistent Data)**\n",
    "**Theory:**\n",
    "- A `Session` object remembers cookies and settings between requests.\n",
    "- Useful for logging in and making multiple requests."
   ]
  },
  {
   "cell_type": "code",
   "execution_count": 30,
   "id": "63b1858d",
   "metadata": {},
   "outputs": [
    {
     "name": "stdout",
     "output_type": "stream",
     "text": [
      "{'cookies': {'sessioncookie': '123456'}}\n"
     ]
    }
   ],
   "source": [
    "session = requests.Session()\n",
    "session.get(\"https://httpbin.org/cookies/set/sessioncookie/123456\")\n",
    "response = session.get(\"https://httpbin.org/cookies\")\n",
    "print(response.json())"
   ]
  },
  {
   "cell_type": "markdown",
   "id": "54f9ff0c",
   "metadata": {},
   "source": [
    "## **10. File Upload**\n",
    "**Theory:**\n",
    "- Many websites allow file uploads (e.g., profile pictures, documents).\n",
    "- You can send files using the files parameter."
   ]
  },
  {
   "cell_type": "code",
   "execution_count": null,
   "id": "0848b9cf",
   "metadata": {},
   "outputs": [],
   "source": [
    "files = {'file': open('test.txt', 'rb')}\n",
    "response = requests.post(\"https://httpbin.org/post\", files=files)\n",
    "print(response.json())"
   ]
  },
  {
   "cell_type": "markdown",
   "id": "0881edc6",
   "metadata": {},
   "source": [
    "## **11. Downloading Files**\n",
    "**Theory:**\n",
    "- You can download binary files (images, PDFs, etc.) using `.content`."
   ]
  },
  {
   "cell_type": "code",
   "execution_count": null,
   "id": "5b16b80f",
   "metadata": {},
   "outputs": [],
   "source": [
    "url = \"https://www.w3.org/TR/PNG/iso_8859-1.txt\"\n",
    "response = requests.get(url)\n",
    "with open(\"downloaded.txt\", \"wb\") as f:\n",
    "    f.write(response.content)"
   ]
  },
  {
   "cell_type": "markdown",
   "id": "6a4a3ea4",
   "metadata": {},
   "source": [
    "## **12. Error Handling**"
   ]
  },
  {
   "cell_type": "code",
   "execution_count": 33,
   "id": "8bbcdd01",
   "metadata": {},
   "outputs": [
    {
     "name": "stdout",
     "output_type": "stream",
     "text": [
      "HTTP Error: 404 Client Error: NOT FOUND for url: https://httpbin.org/status/404\n"
     ]
    }
   ],
   "source": [
    "try:\n",
    "    r = requests.get(\"https://httpbin.org/status/404\")\n",
    "    r.raise_for_status()\n",
    "except requests.HTTPError as e:\n",
    "    print(\"HTTP Error:\", e)"
   ]
  },
  {
   "cell_type": "markdown",
   "id": "d50aef3a",
   "metadata": {},
   "source": [
    "**Exercise:** Request a non-existent page and handle error."
   ]
  },
  {
   "cell_type": "code",
   "execution_count": 37,
   "id": "93fcaff0",
   "metadata": {},
   "outputs": [
    {
     "name": "stdout",
     "output_type": "stream",
     "text": [
      "Request Error: HTTPSConnectionPool(host='www.husnain.com', port=443): Max retries exceeded with url: / (Caused by SSLError(SSLCertVerificationError(1, '[SSL: CERTIFICATE_VERIFY_FAILED] certificate verify failed: self-signed certificate (_ssl.c:1017)')))\n"
     ]
    }
   ],
   "source": [
    "import requests\n",
    "\n",
    "try:\n",
    "    r = requests.get(\"https://www.husnain.com\") \n",
    "    r.raise_for_status()  \n",
    "\n",
    "except requests.HTTPError as e:\n",
    "    print(f\"HTTP Error: {e}\")\n",
    "except requests.RequestException as e:\n",
    "    print(f\"Request Error: {e}\")\n"
   ]
  },
  {
   "cell_type": "markdown",
   "id": "80152c4c",
   "metadata": {},
   "source": [
    "## **THE END**"
   ]
  },
  {
   "cell_type": "markdown",
   "id": "bfc349f4",
   "metadata": {},
   "source": []
  }
 ],
 "metadata": {
  "kernelspec": {
   "display_name": "ml_env",
   "language": "python",
   "name": "python3"
  },
  "language_info": {
   "codemirror_mode": {
    "name": "ipython",
    "version": 3
   },
   "file_extension": ".py",
   "mimetype": "text/x-python",
   "name": "python",
   "nbconvert_exporter": "python",
   "pygments_lexer": "ipython3",
   "version": "3.10.18"
  }
 },
 "nbformat": 4,
 "nbformat_minor": 5
}
