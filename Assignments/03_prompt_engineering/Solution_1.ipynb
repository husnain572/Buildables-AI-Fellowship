{
 "cells": [
  {
   "cell_type": "markdown",
   "id": "869f564c",
   "metadata": {},
   "source": [
    "## NoteBook 1 : Start Writing Prompts Like a Pro"
   ]
  },
  {
   "cell_type": "markdown",
   "id": "12597089",
   "metadata": {},
   "source": [
    "**Reflection**\\\n",
    "Question: How could **different modalities** (images, documents, or audio) help you in your own work?\\\n",
    "\n",
    "***Answer:***\n",
    "It depends on the task, but most of the time I provide screenshots, slides, PDFs, and other documents to get summarized bullet points. In this way, images and documents are converted into important text that is easy to use."
   ]
  },
  {
   "cell_type": "markdown",
   "id": "91c6c547",
   "metadata": {},
   "source": [
    "## **Prompt Engineering Quiz**\n",
    "\n",
    "### Question 1\n",
    "**What is prompting?**  \n",
    "Answer: Prompt engineering is the art and science of crafting instructions that guide AI language models to produce desired outputs. Think of it as learning to communicate effectively with AI systems to achieve specific goals.\n",
    "\n",
    "### Question 2\n",
    "**In the following prompt, which part describes the primary task?**  \n",
    "Prompt: *“Explain how car batteries work using non-technical language that someone without any mechanical knowledge could understand and interpret.”*  \n",
    "Answer: This is the primary part of above prompt: \"Explain how car batteries work\".\n",
    "\n",
    "### Question 3\n",
    "**When you are using a gen AI tool to create a healthy three-course menu that requires a certain number of calories, which prompting element will ensure the menu is more practical?**  \n",
    "Answer: Adding constraints, such as specifying the exact calorie limit, ingredients, and portion sizes, ensures the generated menu is practical and aligns with real-life requirements.\n",
    "\n",
    "Note: I was unfamiliar with the concept of a three-course menu and the diet domain, so I used ChatGPT to help with this question.\n",
    "\n",
    "### Question 4\n",
    "**Prompting with audio to receive a visual representation is called what?**  \n",
    "Answer: Prompting with audio to receive a visual representation is called multimodal prompting, because the input is provided in one mode (audio) and the output is received in another mode (visual).\n",
    "\n",
    "### Question 5\n",
    "**What does a human-in-the-loop approach to prompting emphasize?**  \n",
    "Answer: Human-in-the-loop (HITL) refers to a system or process in which a human actively participates in the operation, supervision or decision-making of an automated system. In the context of AI, HITL means that humans are involved at some point in the AI workflow to ensure accuracy, safety, accountability or ethical decision-making.\n",
    "\n",
    "Reference: [Link](https://www.ibm.com/think/topics/human-in-the-loop)\n",
    "\n",
    "\n",
    "### Question 6\n",
    "**When the initial prompt \"Create a dataset\" is too broad, what should you do to refine it?**  \n",
    "Answer:\n",
    "I would apply the 5-step prompt framework — Task → Context → References → Evaluate → Iterate.\n",
    "\n",
    "***Refined prompt:***\n",
    "\n",
    "Act as an expert data scientist. Create a dataset containing car showroom sales and purchase data, specifically for SUVs and sports cars. Use the Kaggle website as a reference. The dataset should be clean, cover all key aspects of the vehicle market, and be provided in CSV format.\n"
   ]
  }
 ],
 "metadata": {
  "language_info": {
   "name": "python"
  }
 },
 "nbformat": 4,
 "nbformat_minor": 5
}
