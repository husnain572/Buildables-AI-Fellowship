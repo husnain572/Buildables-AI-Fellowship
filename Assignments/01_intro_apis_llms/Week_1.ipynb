{
 "cells": [
  {
   "cell_type": "markdown",
   "id": "f545dd57",
   "metadata": {},
   "source": [
    "# **Introduction to APIs and LLMs with Python**\n",
    "\n",
    "Welcome! \n",
    "In this notebook, we will learn the basics of AI (Artificial Intelligence), LLMs (Large Language Models), APIs (Application Programming Interfaces).\n",
    "\n",
    "By the end of this notebook, you will:  \n",
    "- What is AI.  \n",
    "- What are LLM.  \n",
    "- What are API.\n",
    "- Jupyter notebook or Google colab.\n",
    "- Save and share your notebook using GitHub.  \n",
    "\n",
    "Let’s begin "
   ]
  },
  {
   "cell_type": "markdown",
   "id": "18c3a7c9",
   "metadata": {},
   "source": [
    "# But first start with some basic recap!"
   ]
  },
  {
   "cell_type": "markdown",
   "id": "c6fe4722",
   "metadata": {},
   "source": [
    "---\n",
    "\n",
    "### **Question 1**: What is Artificial Intelligence (AI)?"
   ]
  },
  {
   "cell_type": "markdown",
   "id": "79a7f5f3",
   "metadata": {},
   "source": [
    "Artificial Intelligence (AI) means teaching computers to think and act like humans.\n",
    "\n",
    "Just like we use our brain to learn, solve problems, and make decisions, AI helps computers do the same.\n",
    "\n",
    "For example:\n",
    "\n",
    "1) When you talk to Siri or Alexa and they answer you → that’s AI.\n",
    "\n",
    "2) When YouTube shows you videos you may like → that’s AI.\n",
    "\n",
    "3) When a self-driving car follows the road → that’s AI.\n",
    "\n",
    "So, AI is like giving a computer a mini brain to understand, learn, and decide. OR in simple words AI is just automation...\n",
    "\n",
    "---"
   ]
  },
  {
   "cell_type": "markdown",
   "id": "f47fad65",
   "metadata": {},
   "source": [
    "### **Quick Questions**: "
   ]
  },
  {
   "cell_type": "markdown",
   "id": "8bc5c8ed",
   "metadata": {},
   "source": [
    "1. Do yo think AI should be defined by how it is built, or by what it can do? Why?\n",
    "\n",
    "In my opinion both perspectives are crucial because if we talk about the Neural networks in deep learning, they work like a neurons in human brain and do the automation, so building of AI and working both matters. without the right design, AI can’t function well, and without useful capabilities, the design has no value."
   ]
  },
  {
   "cell_type": "markdown",
   "id": "cd08c5b2",
   "metadata": {},
   "source": [
    "2. Today's AI is mostly narrow AI (like bots, recommendation systems, etc). What do you think true 'general AI' would look like - and how close are we to it?\n",
    "\n",
    "Narrow AI and General AI are both types of Artificial Intelligence. Narrow AI can be defined as weak intelligence aimed at performing specific tasks, for example, specific chatbots or recommender systems. \n",
    "\n",
    "General AI, on the other hand, is the next step in the future direction of AI technology. This general intelligence can perform human-like tasks and exhibit intelligent behavior. General AI robots can learn and solve all kinds of problems, including cognitive skills such as vision and language, as well as actions like understanding situations, thinking, and being sensitive to emotions. The main aim of General AI is to replicate human-level intelligence and reasoning.\n",
    "\n",
    "Currently, General AI is in the research phase and not yet implemented, but in the next few years, it may start to be implemented."
   ]
  },
  {
   "cell_type": "markdown",
   "metadata": {},
   "source": [
    "3. Can AI ‘understand’ things the way humans do, or is it just simulating understanding?\n",
    "\n",
    "AI does not understand the way humans do; it only pretends to understand. Basically, AI models are trained on previous data and then produce output. In short, it does not truly understand but responds based on patterns learned from past data. "
   ]
  },
  {
   "cell_type": "markdown",
   "id": "1002d1f3",
   "metadata": {},
   "source": [
    "4. If an AI system makes a decision that harms someone, who should be responsible: the AI, the developer, or the user?\n",
    "\n",
    "In my opinion, the developer should be responsible because AI itself cannot do anything on its own. The developer makes it capable of solving problems or performing specific tasks. If the model is making incorrect predictions or harmful to someone, then the developer should evaluate its performance and make the necessary improvements before implementation.\n",
    "\n",
    "One more thought can be that the AI system depends on its usage, it can be positive as well as negative. So, in both cases the developer is responsible."
   ]
  },
  {
   "cell_type": "markdown",
   "metadata": {},
   "source": [
    "5. Should AI be allowed to make decisions in areas like healthcare, hiring, or law? Why or why not?\n",
    "\n",
    "Absolutely, AI should be involved in decision-making because, in my opinion, AI will work on merit. This will eliminate factors like favoritism, bias, or corruption, and processes will become faster. "
   ]
  },
  {
   "cell_type": "markdown",
   "id": "ca607071",
   "metadata": {},
   "source": [
    "6. If an AI composes music or paints artwork, who owns the rights — the AI, the programmer, or nobody?\n",
    "\n",
    "The end user should be the owner, as they are the ones who write the prompt to compose music or create artworks. Without an efficient prompt, the desired results cannot be achieved."
   ]
  },
  {
   "cell_type": "markdown",
   "id": "62b3069a",
   "metadata": {},
   "source": [
    "7. Which jobs do you think AI will change the most in the next 10 years, and which jobs are the hardest for AI to replace?\n",
    "\n",
    "In my opinion, AI will replace people who do not know how to use it. It will not necessarily eliminate jobs but will automate processes. For example, tasks like content creation, SEO, and front-end development can now be done using AI, which is faster than doing them manually. However, it still requires a person to review and refine the AI-generated content. Therefore, learning AI is essential.\n",
    "\n",
    "Offline jobs are more difficult for AI to replace, such as military operations religious tasks or cooking. "
   ]
  },
  {
   "cell_type": "markdown",
   "metadata": {},
   "source": [
    "8. Would you trust an AI to drive your car, perform surgery, or grade your exams? Why or why not?\n",
    "\n",
    "I will trust AI only partially because, in areas like surgery or driving, a malfunction or glitch could directly harm me or even cause death. However, in tasks like grading exams, I can trust AI since there is no threat to my life."
   ]
  },
  {
   "cell_type": "markdown",
   "metadata": {},
   "source": [
    "----\n",
    "\n",
    "### **Question 2**: What are LLMs?"
   ]
  },
  {
   "cell_type": "markdown",
   "id": "0014882c",
   "metadata": {},
   "source": [
    "LLMs means Large Language Models.\n",
    "\n",
    "They are special computer programs that can read, understand, and write human language (like English, Urdu, or any other).\n",
    "\n",
    "How do they process and generate text?\n",
    "\n",
    "Think of it like this:\n",
    "\n",
    "1) Learning stage \n",
    "\n",
    "    - The LLM reads a lot of books, websites, stories, and articles.\n",
    "\n",
    "    - From this, it learns how words are used and which words usually come after each other.\n",
    "\n",
    "2) Understanding stage \n",
    "\n",
    "    - When you ask a question (like “What is the sky’s color?”), it looks at the words carefully.\n",
    "\n",
    "3) Writing stage \n",
    "\n",
    "    - It then guesses the next word step by step.\n",
    "\n",
    "    - Example: If you say, “The sky is…”\n",
    "    → It has seen many times that the next word is “blue.”\n",
    "\n",
    "    - So it answers: “The sky is blue.”"
   ]
  },
  {
   "cell_type": "markdown",
   "id": "8e8bfa29",
   "metadata": {},
   "source": [
    "Easy way to remember\n",
    "\n",
    "LLM is like a super-smart parrot :\n",
    "\n",
    "- It has read millions of books.\n",
    "\n",
    "- When you talk to it, it replies by picking the best words it learned before.\n",
    "\n",
    "---"
   ]
  },
  {
   "cell_type": "markdown",
   "id": "bdec9c60",
   "metadata": {},
   "source": [
    "### **Quick Questions** "
   ]
  },
  {
   "cell_type": "markdown",
   "id": "f1700b56",
   "metadata": {},
   "source": [
    "1. What is one task that LLMs perform surprisingly well, and one task where they still struggle — and why do you think that is?\n",
    "\n",
    "LLMs generate basic code snippets quite accurately, but they struggle with complex backend logic. In short, they do not perform well on logical or reasoning-based prompts. However, they excel at language-related tasks such as note-making, content creation, and similar activities."
   ]
  },
  {
   "cell_type": "markdown",
   "id": "eb3c3fc7",
   "metadata": {},
   "source": [
    "2. If an LLM gives a very confident but wrong answer, should we call that a ‘mistake’ like in humans, or something else? Why?\n",
    "\n",
    "Yes, we can call it a mistake because the model has the capability to produce a correct answer for the same prompt on another attempt. This variability occurs due to the probabilistic nature of LLMs, which generate responses based on patterns in the data they were trained on. Sometimes, this process leads to inaccuracies despite the confident tone of the output."
   ]
  },
  {
   "cell_type": "markdown",
   "metadata": {},
   "source": [
    "3. Do you think LLMs will replace programmers, or just change the way programming is done? Why?\n",
    "\n",
    "It will change the way the promming is done. As I told earlier it creates basic promming so well but stuck on backend logics. So, it can be used to do simple tasks and save time."
   ]
  },
  {
   "cell_type": "markdown",
   "id": "6d21d871",
   "metadata": {},
   "source": [
    "4. Humans learn language from relatively little data compared to LLMs, which need billions of words. Why do you think humans are so much more data-efficient?\n",
    "\n",
    "First of all, humans have a God-gifted ability to learn language, whereas LLMs need to be trained by developers using large datasets to make predictions. Secondly, humans learn the basics of a language and then generate content, while LLMs are directly trained on data and generate outputs based on patterns in that data.\n"
   ]
  },
  {
   "cell_type": "markdown",
   "metadata": {},
   "source": [
    "5. When an LLM generates a poem or a story, would you call it ‘creative’? Why or why not?\n",
    "\n",
    "No, I will not call it creative because it generates content based on previous poems or stories it was trained on, so it is purely predictive."
   ]
  },
  {
   "cell_type": "markdown",
   "id": "95e9e460",
   "metadata": {},
   "source": [
    "6. If you ask the same LLM the same question multiple times, you might get different answers. What does this tell us about how LLMs generate text?\n",
    "\n",
    "LLMs generate responses based on token probabilities, so each time the response may be slightly different. However, the overall content will remain almost the same, with only minor changes in wording or structure."
   ]
  },
  {
   "cell_type": "markdown",
   "id": "7f2bf3ad",
   "metadata": {},
   "source": [
    "---\n",
    "\n",
    "### **Question 3**: What are APIs?"
   ]
  },
  {
   "cell_type": "markdown",
   "id": "b30be048",
   "metadata": {},
   "source": [
    "API means Application Programming Interface.\n",
    "\n",
    "That sounds big, but here’s the simple meaning:\n",
    "\n",
    "An API is like a waiter in a restaurant.\n",
    "\n",
    "* You (the customer) tell the waiter what food you want.\n",
    "* The waiter takes your order to the kitchen (the system).\n",
    "* The kitchen makes the food.\n",
    "* The waiter brings the food back to you.\n",
    "\n",
    "In the same way:\n",
    "\n",
    "* You (the user) send a request through an API.\n",
    "* The computer/server prepares the data.\n",
    "* The API brings the data back to you.\n",
    "\n",
    "Example:\n",
    "\n",
    "* If you want to know today’s **weather**, you ask the **Weather API**.\n",
    "* The API goes to the weather database, finds the answer, and gives it back to you.\n",
    "* So your phone app shows: *“It’s 30°C and sunny .”*\n",
    "\n",
    "\n",
    "Easy way to remember:\n",
    "\n",
    "API = Middleman/helper -> that carries your request and brings back the answer."
   ]
  },
  {
   "cell_type": "markdown",
   "metadata": {},
   "source": [
    "---\n",
    "\n",
    "### **Question 4**: What is role of APIs in Automation?"
   ]
  },
  {
   "cell_type": "markdown",
   "id": "2c646207",
   "metadata": {},
   "source": [
    "Role of APIs in Automation\n",
    "\n",
    "Automation means making machines do work automatically (without humans doing every step).\n",
    "\n",
    "APIs help automation by letting different programs talk to each other and share information."
   ]
  },
  {
   "cell_type": "markdown",
   "id": "f00bf85d",
   "metadata": {},
   "source": [
    "Example 1: Using Weather API\n",
    "\n",
    "* Imagine you want to see the weather every morning.\n",
    "* Without API → You would open the website, search, and read.\n",
    "* With API → A program can **automatically** ask the weather API and show:\n",
    "\n",
    "  *“Good morning! Today is sunny .”*\n",
    "  \n",
    "  You don’t have to do anything — it’s automatic!\n"
   ]
  },
  {
   "cell_type": "markdown",
   "id": "85226a9a",
   "metadata": {},
   "source": [
    "Example 2: Accessing LLMs (like ChatGPT) through API\n",
    "\n",
    "* LLM (Large Language Model) is like a **big smart brain** on a server.\n",
    "* But that brain doesn’t live on your computer — it’s far away (in the cloud).\n",
    "* **API** is the bridge that lets your app talk to that brain.\n",
    "\n",
    "Steps:\n",
    "\n",
    "1. You type a question in your app → “Tell me a story about a dragon.” \n",
    "2. Your app sends this request through the **API** to the LLM.\n",
    "3. The LLM thinks and writes a story.\n",
    "4. The **API brings back** the story to your app.\n",
    "\n",
    "This way, you can use the smart LLM **remotely** (from anywhere) without installing it on your computer."
   ]
  },
  {
   "cell_type": "markdown",
   "id": "5f2cf40f",
   "metadata": {},
   "source": [
    "Easy way to remember\n",
    "\n",
    "**API is like a magic pipe** :\n",
    "\n",
    "* One side: You put in your request.\n",
    "* Other side: You get back the answer.\n",
    "\n",
    "---"
   ]
  },
  {
   "cell_type": "markdown",
   "id": "7101974b",
   "metadata": {},
   "source": [
    "### **Quick Questions** "
   ]
  },
  {
   "cell_type": "markdown",
   "id": "70682ae2",
   "metadata": {},
   "source": [
    "1. If an AI model is huge and cannot run on your laptop, how can an API make it usable for you?\n",
    "\n",
    "This large model will hopefully be deployed on a server (cloud), with an API acting as the middleman between the end user and the server. The API will send the user’s query to the model and return the corresponding answer."
   ]
  },
  {
   "cell_type": "markdown",
   "id": "18bf1fab",
   "metadata": {},
   "source": [
    "2. Why do most AI companies (like OpenAI, Hugging Face, Google) provide APIs instead of letting people directly download their models?\n",
    "\n",
    "Because these models are expensive to manage and not all users can set them up properly, providers offer APIs so we can use them easily."
   ]
  },
  {
   "cell_type": "markdown",
   "id": "9e2b150d",
   "metadata": {},
   "source": [
    "3. Why do you think API rate limits exist? How does it affect AI usage?\n",
    "\n",
    "API rate limits restrict users from making unnecessary requests, as this could create congestion on the cloud and cause many important calls to be missed."
   ]
  },
  {
   "cell_type": "markdown",
   "metadata": {},
   "source": [
    "4. How would you handle an API error like 429 Too Many Requests in your code?\n",
    "\n",
    "These errors can be handle using exponential backoff. Exponential backoff means performing a short sleep when a rate limit error is hit, then retrying the unsuccessful request. If the request is still unsuccessful, the sleep length is increased and the process is repeated."
   ]
  },
  {
   "cell_type": "markdown",
   "metadata": {},
   "source": [
    "---\n",
    "\n",
    "## How it all connects\n",
    "\n",
    "* **AI** = The smart brain.\n",
    "* **LLM** = A type of AI that talks like humans.\n",
    "* **API** = The messenger that connects us to AI/LLMs.\n",
    "* **Automation** = The reason we use APIs — to make work happen without us doing it again and again.\n",
    "\n",
    "So, whenever you hear:\n",
    "\n",
    "* **AI** → Smart brain for computers.\n",
    "* **LLM** → AI that talks like humans.\n",
    "* **API** → Messenger/waiter/helper.\n",
    "* **Automation** → Work done automatically.\n",
    "\n",
    "\n",
    "---"
   ]
  },
  {
   "cell_type": "markdown",
   "metadata": {},
   "source": [
    "## Python for API Interaction"
   ]
  },
  {
   "cell_type": "markdown",
   "id": "589521ce",
   "metadata": {},
   "source": [
    "**1. Using requests to call an API**\n",
    "\n",
    "Python has a library called requests that helps us talk to APIs (send requests and get answers).\n",
    "\n",
    "Example:\n",
    "Let’s get some data from a public API (e.g., a joke API)."
   ]
  },
  {
   "cell_type": "code",
   "execution_count": 6,
   "id": "fb356b32",
   "metadata": {},
   "outputs": [
    {
     "name": "stdout",
     "output_type": "stream",
     "text": [
      "{\"type\":\"general\",\"setup\":\"Why do pirates not know the alphabet?\",\"punchline\":\"They always get stuck at \\\"C\\\".\",\"id\":349}\n"
     ]
    }
   ],
   "source": [
    "import requests\n",
    "response=requests.get(\"https://official-joke-api.appspot.com/random_joke\")\n",
    "print(response.text)"
   ]
  },
  {
   "cell_type": "markdown",
   "id": "0e1813ce",
   "metadata": {},
   "source": [
    "This sends a message to the API, and the API replies with data (usually in JSON format)."
   ]
  },
  {
   "cell_type": "markdown",
   "id": "e5efde65",
   "metadata": {},
   "source": [
    "**2. What is JSON?**\n",
    "\n",
    "JSON = JavaScript Object Notation.\n",
    "\n",
    "It’s a way to store and share data.\n",
    "\n",
    "Looks like a dictionary in Python → with keys and values.\n",
    "\n",
    "Example JSON from joke API:"
   ]
  },
  {
   "cell_type": "code",
   "execution_count": null,
   "id": "c96832a9",
   "metadata": {},
   "outputs": [],
   "source": [
    "{\n",
    "  \"id\": 123,\n",
    "  \"type\": \"general\",\n",
    "  \"setup\": \"Why did the computer go to the doctor?\",\n",
    "  \"punchline\": \"Because it caught a virus!\"\n",
    "}"
   ]
  },
  {
   "cell_type": "markdown",
   "metadata": {},
   "source": [
    "**3. Handling JSON in Python**\n",
    "\n",
    "We use .json() method to turn the API response into a Python dictionary.\n",
    "\n",
    "Example:"
   ]
  },
  {
   "cell_type": "code",
   "execution_count": 13,
   "id": "e2f5830e",
   "metadata": {},
   "outputs": [
    {
     "name": "stdout",
     "output_type": "stream",
     "text": [
      "{'type': 'general', 'setup': \"What's black and white and read all over?\", 'punchline': 'The newspaper.', 'id': 264}\n",
      "ID:  264\n",
      "Type:  general\n",
      "Setup:  What's black and white and read all over?\n",
      "Punchline:  The newspaper.\n"
     ]
    }
   ],
   "source": [
    "import requests\n",
    "response=requests.get(\"https://official-joke-api.appspot.com/random_joke\")\n",
    "data=response.json()\n",
    "print(data)\n",
    "\n",
    "# Access the parts of JSON\n",
    "print(\"ID: \",data[\"id\"])\n",
    "print(\"Type: \",data[\"type\"])\n",
    "print(\"Setup: \",data[\"setup\"])\n",
    "print(\"Punchline: \",data[\"punchline\"])"
   ]
  },
  {
   "cell_type": "markdown",
   "id": "708ccf17",
   "metadata": {},
   "source": [
    "The API replies back showing it got your data."
   ]
  },
  {
   "cell_type": "markdown",
   "id": "7154dc3e",
   "metadata": {},
   "source": [
    "### Coding Part"
   ]
  },
  {
   "cell_type": "code",
   "execution_count": null,
   "id": "3c71e830",
   "metadata": {},
   "outputs": [
    {
     "name": "stdout",
     "output_type": "stream",
     "text": [
      "{'id': 'chatcmpl-d53b0bd3-88c3-4ec4-a58b-7a921cd6cf3f', 'object': 'chat.completion', 'created': 1755855885, 'model': 'llama3-8b-8192', 'choices': [{'index': 0, 'message': {'role': 'assistant', 'content': \"Pakistan's politics can be complex and tumultuous, but I'll try to provide you with a brief overview of Imran Khan's rise to power and current political situation.\\n\\nImran Khan is a Pakistani politician and former cricketer who founded the Pakistan Tehreek-e-Insaf (PTI) party in 1996. He has been the Prime Minister of Pakistan since August 2018.\\n\\nKhan's political career gained momentum in the 2010s, as he capitalized on his popularity as a cricket icon and built a reputation as a anti-corruption crusader. He won the 2013 general elections but fell short of a majority, leading to a coalition government. However, he emerged as the clear winner in the 2018 general elections, securing a majority in the National Assembly.\\n\\nAs Prime Minister, Khan has implemented several populist policies, including:\\n\\n1. Anti-corruption drive: Khan has focused on rooting out corruption, establishing the National Accountability Bureau (NAB) to pursue\"}, 'logprobs': None, 'finish_reason': 'length'}], 'usage': {'queue_time': 0.326953288, 'prompt_tokens': 37, 'prompt_time': 0.008118656, 'completion_tokens': 200, 'completion_time': 0.164818114, 'total_tokens': 237, 'total_time': 0.17293677}, 'usage_breakdown': None, 'system_fingerprint': 'fp_0fb809dba3', 'x_groq': {'id': 'req_01k38jn4yrf4ea79ah87t2zmcj'}, 'service_tier': 'on_demand'}\n",
      "Pakistan's politics can be complex and tumultuous, but I'll try to provide you with a brief overview of Imran Khan's rise to power and current political situation.\n",
      "\n",
      "Imran Khan is a Pakistani politician and former cricketer who founded the Pakistan Tehreek-e-Insaf (PTI) party in 1996. He has been the Prime Minister of Pakistan since August 2018.\n",
      "\n",
      "Khan's political career gained momentum in the 2010s, as he capitalized on his popularity as a cricket icon and built a reputation as a anti-corruption crusader. He won the 2013 general elections but fell short of a majority, leading to a coalition government. However, he emerged as the clear winner in the 2018 general elections, securing a majority in the National Assembly.\n",
      "\n",
      "As Prime Minister, Khan has implemented several populist policies, including:\n",
      "\n",
      "1. Anti-corruption drive: Khan has focused on rooting out corruption, establishing the National Accountability Bureau (NAB) to pursue\n"
     ]
    }
   ],
   "source": [
    "import requests\n",
    "import os\n",
    "from dotenv import load_dotenv\n",
    "load_dotenv()\n",
    "api_key=os.getenv(\"GROQ_API\")\n",
    "\n",
    "url=\"https://api.groq.com/openai/v1/chat/completions\"\n",
    "\n",
    "payload={\n",
    "    \"model\":\"llama3-8b-8192\",\n",
    "    \"messages\":[\n",
    "        {\"role\":\"system\",\"content\":\"You are a help assistent.\"},\n",
    "        {\"role\":\"user\",\"content\":\"Tell me something about the politics in Pakistan, specifically about Imran Khan.\"}\n",
    "    ],\n",
    "    \"temperature\":0.7,\n",
    "    \"max_tokens\":200\n",
    "}\n",
    "\n",
    "\n",
    "headers={\n",
    "    \"Authorization\":f\"Bearer {api_key}\",\n",
    "    \"Content-Type\":\"application/json\"\n",
    "}\n",
    "\n",
    "\n",
    "response=requests.post(url,json=payload,headers=headers)\n",
    "\n",
    "if response.status_code == 200:\n",
    "    data = response.json()\n",
    "    # print(data)\n",
    "    print(data[\"choices\"][0][\"message\"][\"content\"])\n",
    "else:\n",
    "    print(f\"Error {response.status_code}: {response.text}\")\n"
   ]
  },
  {
   "cell_type": "markdown",
   "id": "32ca5154",
   "metadata": {},
   "source": [
    "## THE END"
   ]
  }
 ],
 "metadata": {
  "kernelspec": {
   "display_name": "ml_env",
   "language": "python",
   "name": "python3"
  },
  "language_info": {
   "codemirror_mode": {
    "name": "ipython",
    "version": 3
   },
   "file_extension": ".py",
   "mimetype": "text/x-python",
   "name": "python",
   "nbconvert_exporter": "python",
   "pygments_lexer": "ipython3",
   "version": "3.10.18"
  }
 },
 "nbformat": 4,
 "nbformat_minor": 5
}
