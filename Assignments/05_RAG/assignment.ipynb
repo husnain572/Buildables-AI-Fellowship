{
 "cells": [
  {
   "cell_type": "code",
   "execution_count": 49,
   "id": "955c8c17",
   "metadata": {},
   "outputs": [
    {
     "name": "stdout",
     "output_type": "stream",
     "text": [
      "API loaded successfully.\n",
      "API loaded successfully.\n"
     ]
    }
   ],
   "source": [
    "import os\n",
    "from dotenv import load_dotenv\n",
    "load_dotenv()\n",
    "\n",
    "groq_api=os.getenv(\"FELLOWSHIP_GROQ_KEY\")\n",
    "pinecone_api=os.getenv(\"PINECONE_API_KEY\")\n",
    "\n",
    "if groq_api:\n",
    "    print(\"API loaded successfully.\")\n",
    "else:\n",
    "    print(\"API not loaded.\")\n",
    "if pinecone_api:\n",
    "    print(\"API loaded successfully.\")\n",
    "else:\n",
    "    print(\"API not loaded.\")"
   ]
  },
  {
   "cell_type": "code",
   "execution_count": 50,
   "id": "eefa6a05",
   "metadata": {},
   "outputs": [],
   "source": [
    "# initialize GROQ chat model\n",
    "from langchain_groq import ChatGroq\n",
    "chat=ChatGroq(\n",
    "    groq_api_key=groq_api,\n",
    "    model_name=\"Llama-3.3-70B-Versatile\"\n",
    ")"
   ]
  },
  {
   "cell_type": "code",
   "execution_count": 51,
   "id": "6aaeb39c",
   "metadata": {},
   "outputs": [],
   "source": [
    "from langchain.schema import AIMessage, HumanMessage, SystemMessage\n",
    "messages=[\n",
    "    SystemMessage(content=\"You are a helpful assistant\"),\n",
    "    HumanMessage(content=\"Who is the founder of Pakistan?\"),\n",
    "    AIMessage(content=\"Quaid-e-Azam Muhammad Ali Jinnah was the founder of Pakistan.\"),\n",
    "    HumanMessage(content=\"I'd like to know about the history of Pakistan.\")\n",
    "]"
   ]
  },
  {
   "cell_type": "code",
   "execution_count": 52,
   "id": "d510d932",
   "metadata": {},
   "outputs": [
    {
     "name": "stdout",
     "output_type": "stream",
     "text": [
      "The history of Pakistan is a rich and complex one, spanning over a thousand years. Here's a brief overview:\n",
      "\n",
      "**Ancient History (3300 BCE - 500 CE):**\n",
      "The region that is now Pakistan has been inhabited by various civilizations, including the Indus Valley Civilization, which is considered one of the oldest civilizations in the world. The region was later conquered by the Persians, Greeks, and Arabs, who introduced Islam to the region.\n",
      "\n",
      "**Medieval History (500 - 1500 CE):**\n",
      "In the medieval period, Pakistan was ruled by various Muslim dynasties, including the Ghaznavids, Ghurids, and Delhi Sultanate. The region was a major center of trade, culture, and learning, with cities like Lahore and Multan becoming important hubs.\n",
      "\n",
      "**Mughal Era (1526 - 1756 CE):**\n",
      "The Mughal Empire, founded by Babur, ruled Pakistan for over two centuries. During this period, the region experienced a golden age of culture, architecture, and art. The Mughals built many iconic monuments, including the Badshahi Mosque and the Lahore Fort.\n",
      "\n",
      "**British Colonial Era (1849 - 1947 CE):**\n",
      "In the mid-19th century, Pakistan was colonized by the British East India Company. The British ruled the region for nearly a century, exploiting its resources and imposing their own language, culture, and institutions. The Indian National Congress and the All-India Muslim League were formed during this period, with the latter advocating for a separate homeland for Muslims.\n",
      "\n",
      "**Pakistan Movement (1930s - 1947 CE):**\n",
      "The Pakistan Movement, led by Muhammad Ali Jinnah, Quaid-e-Azam, gained momentum in the 1930s and 1940s. The movement demanded a separate homeland for Muslims, which ultimately led to the creation of Pakistan on August 14, 1947.\n",
      "\n",
      "**Independence and Early Years (1947 - 1958 CE):**\n",
      "After independence, Pakistan faced numerous challenges, including the massive migration of Muslims from India, the establishment of a new government, and the development of its economy. The country's first constitution was adopted in 1956, but it was short-lived, and the country experienced its first military coup in 1958.\n",
      "\n",
      "**Military Rule and Democracy (1958 - 1988 CE):**\n",
      "Pakistan experienced several periods of military rule, with generals like Ayub Khan, Yahya Khan, and Zia-ul-Haq ruling the country. The country also experienced periods of democracy, with leaders like Zulfikar Ali Bhutto and Benazir Bhutto.\n",
      "\n",
      "**Modern Pakistan (1988 CE - present):**\n",
      "In recent years, Pakistan has faced numerous challenges, including terrorism, corruption, and economic instability. The country has also made significant progress in areas like education, healthcare, and technology. Today, Pakistan is a nuclear-armed state with a diverse economy and a vibrant culture.\n",
      "\n",
      "This is a brief overview of the history of Pakistan. If you have any specific questions or would like more information on a particular period, feel free to ask!\n"
     ]
    }
   ],
   "source": [
    "res=chat(messages)\n",
    "print(res.content)"
   ]
  },
  {
   "cell_type": "code",
   "execution_count": 53,
   "id": "56b1f628",
   "metadata": {},
   "outputs": [],
   "source": [
    "messages.append(res)\n"
   ]
  },
  {
   "cell_type": "code",
   "execution_count": 54,
   "id": "2efe2931",
   "metadata": {},
   "outputs": [
    {
     "data": {
      "text/plain": [
       "[SystemMessage(content='You are a helpful assistant', additional_kwargs={}, response_metadata={}),\n",
       " HumanMessage(content='Who is the founder of Pakistan?', additional_kwargs={}, response_metadata={}),\n",
       " AIMessage(content='Quaid-e-Azam Muhammad Ali Jinnah was the founder of Pakistan.', additional_kwargs={}, response_metadata={}),\n",
       " HumanMessage(content=\"I'd like to know about the history of Pakistan.\", additional_kwargs={}, response_metadata={}),\n",
       " AIMessage(content=\"The history of Pakistan is a rich and complex one, spanning over a thousand years. Here's a brief overview:\\n\\n**Ancient History (3300 BCE - 500 CE):**\\nThe region that is now Pakistan has been inhabited by various civilizations, including the Indus Valley Civilization, which is considered one of the oldest civilizations in the world. The region was later conquered by the Persians, Greeks, and Arabs, who introduced Islam to the region.\\n\\n**Medieval History (500 - 1500 CE):**\\nIn the medieval period, Pakistan was ruled by various Muslim dynasties, including the Ghaznavids, Ghurids, and Delhi Sultanate. The region was a major center of trade, culture, and learning, with cities like Lahore and Multan becoming important hubs.\\n\\n**Mughal Era (1526 - 1756 CE):**\\nThe Mughal Empire, founded by Babur, ruled Pakistan for over two centuries. During this period, the region experienced a golden age of culture, architecture, and art. The Mughals built many iconic monuments, including the Badshahi Mosque and the Lahore Fort.\\n\\n**British Colonial Era (1849 - 1947 CE):**\\nIn the mid-19th century, Pakistan was colonized by the British East India Company. The British ruled the region for nearly a century, exploiting its resources and imposing their own language, culture, and institutions. The Indian National Congress and the All-India Muslim League were formed during this period, with the latter advocating for a separate homeland for Muslims.\\n\\n**Pakistan Movement (1930s - 1947 CE):**\\nThe Pakistan Movement, led by Muhammad Ali Jinnah, Quaid-e-Azam, gained momentum in the 1930s and 1940s. The movement demanded a separate homeland for Muslims, which ultimately led to the creation of Pakistan on August 14, 1947.\\n\\n**Independence and Early Years (1947 - 1958 CE):**\\nAfter independence, Pakistan faced numerous challenges, including the massive migration of Muslims from India, the establishment of a new government, and the development of its economy. The country's first constitution was adopted in 1956, but it was short-lived, and the country experienced its first military coup in 1958.\\n\\n**Military Rule and Democracy (1958 - 1988 CE):**\\nPakistan experienced several periods of military rule, with generals like Ayub Khan, Yahya Khan, and Zia-ul-Haq ruling the country. The country also experienced periods of democracy, with leaders like Zulfikar Ali Bhutto and Benazir Bhutto.\\n\\n**Modern Pakistan (1988 CE - present):**\\nIn recent years, Pakistan has faced numerous challenges, including terrorism, corruption, and economic instability. The country has also made significant progress in areas like education, healthcare, and technology. Today, Pakistan is a nuclear-armed state with a diverse economy and a vibrant culture.\\n\\nThis is a brief overview of the history of Pakistan. If you have any specific questions or would like more information on a particular period, feel free to ask!\", additional_kwargs={}, response_metadata={'token_usage': {'completion_tokens': 634, 'prompt_tokens': 85, 'total_tokens': 719, 'completion_time': 1.412230968, 'prompt_time': 0.004209582, 'queue_time': 0.049201738, 'total_time': 1.41644055}, 'model_name': 'Llama-3.3-70B-Versatile', 'system_fingerprint': 'fp_34d416ee39', 'service_tier': 'on_demand', 'finish_reason': 'stop', 'logprobs': None}, id='run--cb811013-da2a-42cf-a068-f00111c25762-0', usage_metadata={'input_tokens': 85, 'output_tokens': 634, 'total_tokens': 719})]"
      ]
     },
     "execution_count": 54,
     "metadata": {},
     "output_type": "execute_result"
    }
   ],
   "source": [
    "messages"
   ]
  },
  {
   "cell_type": "code",
   "execution_count": 55,
   "id": "318ecbe3",
   "metadata": {},
   "outputs": [
    {
     "name": "stdout",
     "output_type": "stream",
     "text": [
      "The first Prime Minister of Pakistan was Liaquat Ali Khan. He served as the Prime Minister from August 14, 1947, to October 16, 1951. Liaquat Ali Khan was a close associate of Muhammad Ali Jinnah, the founder of Pakistan, and played a key role in the country's early years. He was instrumental in shaping the country's constitution, economy, and foreign policy. Unfortunately, his tenure was cut short when he was assassinated on October 16, 1951, in Rawalpindi.\n"
     ]
    }
   ],
   "source": [
    "prompt=HumanMessage(content=\"Who was the first prime minister of Pakistan?\")\n",
    "messages.append(prompt)\n",
    "res=chat(messages)\n",
    "print(res.content)"
   ]
  },
  {
   "cell_type": "code",
   "execution_count": 56,
   "id": "f6d45aaa",
   "metadata": {},
   "outputs": [
    {
     "name": "stdout",
     "output_type": "stream",
     "text": [
      "Requirement already satisfied: PyMuPDF in /opt/anaconda3/envs/fellowship_env/lib/python3.11/site-packages (1.26.5)\n",
      "Note: you may need to restart the kernel to use updated packages.\n"
     ]
    }
   ],
   "source": [
    "pip install PyMuPDF"
   ]
  },
  {
   "cell_type": "code",
   "execution_count": 57,
   "id": "58f711b1",
   "metadata": {},
   "outputs": [
    {
     "name": "stdout",
     "output_type": "stream",
     "text": [
      "Title: A Short History of Pakistan\n",
      "Pakistan was created on August 14, 1947, after the partition of British India. \n",
      "The demand for a separate homeland for Muslims was led by Quaid-e-Azam \n",
      "Muhammad Ali Jinnah. \n",
      "He envisioned Pakistan as a country where Muslims could freely practice their \n",
      "religion and culture.\n",
      "The new country faced major challenges from the beginning — a shortage of \n",
      "resources, migration of millions of refugees, and administrative difficulties. \n",
      "Despite these hardships, Pakistan quickly established its government \n",
      "institutions.\n",
      "Liaquat Ali Khan became the first Prime Minister of Pakistan, while Muhammad \n",
      "Ali Jinnah served as the first Governor-General.\n",
      "In 1956, Pakistan adopted its first constitution, officially becoming the Islamic \n",
      "Republic of Pakistan. \n",
      "The country experienced periods of democracy and military rule throughout its \n",
      "history.\n",
      "In 1971, East Pakistan separated and became the independent country of \n",
      "Bangladesh after a civil war.\n",
      "Today, Pakistan is known for its rich culture, strong military, and significant role \n",
      "in South Asian politics.\n",
      "\n"
     ]
    }
   ],
   "source": [
    "# Load PDF Document as Knowledge Source\n",
    "import fitz\n",
    "pdf_path=\"text.pdf\"\n",
    "text=\"\"\n",
    "with fitz.open(pdf_path) as doc:\n",
    "    for page in doc:\n",
    "        text+=page.get_text(\"text\")\n",
    "    \n",
    "print(text)"
   ]
  },
  {
   "cell_type": "code",
   "execution_count": 58,
   "id": "ccbec81b",
   "metadata": {},
   "outputs": [
    {
     "name": "stdout",
     "output_type": "stream",
     "text": [
      "['Title: A Short History of Pakistan\\nPakistan was created on August 14, 1947, after the partition of British India. \\nThe demand for a separate homeland for Muslims was led by Quaid-e-Azam \\nMuhammad Ali Jinnah. \\nHe envisioned Pakistan as a country where Muslims could freely practice their \\nreligion and culture.\\nThe new country faced major challenges from the beginning — a shortage of \\nresources, migration of millions of refugees, and administrative difficulties.', 'resources, migration of millions of refugees, and administrative difficulties. \\nDespite these hardships, Pakistan quickly established its government \\ninstitutions.\\nLiaquat Ali Khan became the first Prime Minister of Pakistan, while Muhammad \\nAli Jinnah served as the first Governor-General.\\nIn 1956, Pakistan adopted its first constitution, officially becoming the Islamic \\nRepublic of Pakistan. \\nThe country experienced periods of democracy and military rule throughout its \\nhistory.', 'The country experienced periods of democracy and military rule throughout its \\nhistory.\\nIn 1971, East Pakistan separated and became the independent country of \\nBangladesh after a civil war.\\nToday, Pakistan is known for its rich culture, strong military, and significant role \\nin South Asian politics.']\n"
     ]
    }
   ],
   "source": [
    "# Split PDF text into small chunks\n",
    "from langchain.text_splitter import RecursiveCharacterTextSplitter\n",
    "splitter=RecursiveCharacterTextSplitter(chunk_size=500, chunk_overlap=100)\n",
    "texts=splitter.split_text(text)\n",
    "print(texts)"
   ]
  },
  {
   "cell_type": "code",
   "execution_count": 59,
   "id": "0efe6af8",
   "metadata": {},
   "outputs": [
    {
     "name": "stdout",
     "output_type": "stream",
     "text": [
      "Loaded and split PDF into 3 chunks\n"
     ]
    }
   ],
   "source": [
    "# Convert into DataFrame for batching\n",
    "import pandas as pd\n",
    "data=pd.DataFrame({\"chunks\":texts})\n",
    "print(f\"Loaded and split PDF into {len(data)} chunks\")\n"
   ]
  },
  {
   "cell_type": "code",
   "execution_count": 60,
   "id": "139223a9",
   "metadata": {},
   "outputs": [],
   "source": [
    "# Create Pinecone Index & Embeddings\n",
    "from pinecone import Pinecone, AwsRegion, ServerlessSpec, Metric, CloudProvider\n",
    "from langchain_huggingface import HuggingFaceEmbeddings\n",
    "from tqdm.auto import tqdm\n",
    "\n",
    "pc=Pinecone(api_key=pinecone_api)\n",
    "index_name=\"pakistan-history\"\n"
   ]
  },
  {
   "cell_type": "code",
   "execution_count": 61,
   "id": "6f68ff90",
   "metadata": {},
   "outputs": [],
   "source": [
    "# Delete if exists (optional)\n",
    "if index_name in [i[\"name\"] for i in pc.list_indexes()]:\n",
    "    pc.delete_index(index_name)"
   ]
  },
  {
   "cell_type": "code",
   "execution_count": 62,
   "id": "2f032860",
   "metadata": {},
   "outputs": [
    {
     "data": {
      "text/plain": [
       "{\n",
       "    \"name\": \"pakistan-history\",\n",
       "    \"metric\": \"dotproduct\",\n",
       "    \"host\": \"pakistan-history-15e932d.svc.aped-4627-b74a.pinecone.io\",\n",
       "    \"spec\": {\n",
       "        \"serverless\": {\n",
       "            \"cloud\": \"aws\",\n",
       "            \"region\": \"us-east-1\"\n",
       "        }\n",
       "    },\n",
       "    \"status\": {\n",
       "        \"ready\": true,\n",
       "        \"state\": \"Ready\"\n",
       "    },\n",
       "    \"vector_type\": \"dense\",\n",
       "    \"dimension\": 384,\n",
       "    \"deletion_protection\": \"disabled\",\n",
       "    \"tags\": null\n",
       "}"
      ]
     },
     "execution_count": 62,
     "metadata": {},
     "output_type": "execute_result"
    }
   ],
   "source": [
    "# Create new index\n",
    "pc.create_index(\n",
    "    name=index_name,\n",
    "    metric=Metric.DOTPRODUCT,\n",
    "    dimension=384,\n",
    "    spec=ServerlessSpec(\n",
    "        cloud=CloudProvider.AWS,\n",
    "        region=AwsRegion.US_EAST_1\n",
    "    )\n",
    ")"
   ]
  },
  {
   "cell_type": "code",
   "execution_count": 63,
   "id": "ae9d132d",
   "metadata": {},
   "outputs": [],
   "source": [
    "# Connect to the index\n",
    "index=pc.Index(index_name)"
   ]
  },
  {
   "cell_type": "code",
   "execution_count": 64,
   "id": "97fffc48",
   "metadata": {},
   "outputs": [],
   "source": [
    "# Embedding Model\n",
    "embed_model=HuggingFaceEmbeddings(model_name=\"sentence-transformers/all-MiniLM-L6-v2\")\n"
   ]
  },
  {
   "cell_type": "code",
   "execution_count": 67,
   "id": "0068bf5a",
   "metadata": {},
   "outputs": [
    {
     "name": "stderr",
     "output_type": "stream",
     "text": [
      "100%|██████████| 1/1 [00:00<00:00,  1.15it/s]"
     ]
    },
    {
     "name": "stdout",
     "output_type": "stream",
     "text": [
      "All chunks uploaded to Pinecone!\n"
     ]
    },
    {
     "name": "stderr",
     "output_type": "stream",
     "text": [
      "\n"
     ]
    }
   ],
   "source": [
    "batch_size = 100\n",
    "for i in tqdm(range(0, len(data), batch_size)):\n",
    "    i_end = min(len(data), i + batch_size)\n",
    "    batch = data.iloc[i:i_end]\n",
    "    ids = [f\"chunk-{j}\" for j in range(i, i_end)]\n",
    "    texts = batch[\"chunks\"].tolist()\n",
    "    embeds = embed_model.embed_documents(texts)\n",
    "    metadata = [{\"text\": x} for x in texts]\n",
    "    index.upsert(vectors=zip(ids, embeds, metadata))\n",
    "\n",
    "print(\"All chunks uploaded to Pinecone!\")"
   ]
  },
  {
   "cell_type": "code",
   "execution_count": 73,
   "id": "c351355c",
   "metadata": {},
   "outputs": [],
   "source": [
    "# Create VectorStore\n",
    "from langchain_pinecone import PineconeVectorStore\n",
    "text_field=\"text\"\n",
    "vectorstore=PineconeVectorStore(\n",
    "    index=index, \n",
    "    embedding=embed_model,\n",
    "    text_key=text_field\n",
    ")"
   ]
  },
  {
   "cell_type": "code",
   "execution_count": 74,
   "id": "64cacbc9",
   "metadata": {},
   "outputs": [],
   "source": [
    "def augment_prompt(query:str):\n",
    "    results=vectorstore.similarity_search(query,k=3)\n",
    "    source_knowledge=\"\\n\".join([x.page_content for x in results])\n",
    "    augmented_prompt=f\"\"\"Using the context below, answer the query.\n",
    "Context:\n",
    "{source_knowledge}\n",
    "Query:\n",
    "{query}\n",
    "\"\"\"\n",
    "    return augmented_prompt"
   ]
  },
  {
   "cell_type": "code",
   "execution_count": null,
   "id": "5b781200",
   "metadata": {},
   "outputs": [
    {
     "data": {
      "text/plain": [
       "\"The context provided does not explicitly mention the main events in Pakistan's independence movement. However, it does mention the following key events and figures that contributed to Pakistan's independence:\\n\\n1. The demand for a separate homeland for Muslims was led by Quaid-e-Azam Muhammad Ali Jinnah.\\n2. Pakistan was created on August 14, 1947, after the partition of British India.\\n\\nTo provide a more comprehensive answer, some of the main events in Pakistan's independence movement include:\\n\\n* The Pakistan Resolution (1940): The Muslim League, led by Muhammad Ali Jinnah, passed a resolution demanding a separate homeland for Muslims.\\n* The Partition of British India (1947): The British Indian Empire was divided into two separate countries: India and Pakistan.\\n* The role of key figures: Quaid-e-Azam Muhammad Ali Jinnah, Liaquat Ali Khan, and other leaders played important roles in the independence movement.\\n\\nNote that the provided context is limited, and a more detailed account of the independence movement would require additional information.\""
      ]
     },
     "execution_count": 75,
     "metadata": {},
     "output_type": "execute_result"
    }
   ],
   "source": [
    "query = \"What are the main events in Pakistan’s independence movement?\"\n",
    "prompt=HumanMessage(content=augment_prompt(query))\n",
    "messages.append(prompt)\n",
    "res=chat(messages)\n",
    "res.content"
   ]
  },
  {
   "cell_type": "code",
   "execution_count": 77,
   "id": "9123fda0",
   "metadata": {},
   "outputs": [
    {
     "data": {
      "text/plain": [
       "\"Muhammad Ali Jinnah served as Pakistan's first Governor-General.\""
      ]
     },
     "execution_count": 77,
     "metadata": {},
     "output_type": "execute_result"
    }
   ],
   "source": [
    "prompt = HumanMessage(content=augment_prompt(\"Who was Pakistan's first Governor-General?\"))\n",
    "res = chat(messages + [prompt])\n",
    "res.content"
   ]
  },
  {
   "cell_type": "code",
   "execution_count": 78,
   "id": "bbafa3b1",
   "metadata": {},
   "outputs": [],
   "source": [
    "# Optional: Delete index after testing\n",
    "# pc.delete_index(index_name)"
   ]
  },
  {
   "cell_type": "code",
   "execution_count": null,
   "id": "08c61e25",
   "metadata": {},
   "outputs": [],
   "source": []
  }
 ],
 "metadata": {
  "kernelspec": {
   "display_name": "fellowship_env",
   "language": "python",
   "name": "python3"
  },
  "language_info": {
   "codemirror_mode": {
    "name": "ipython",
    "version": 3
   },
   "file_extension": ".py",
   "mimetype": "text/x-python",
   "name": "python",
   "nbconvert_exporter": "python",
   "pygments_lexer": "ipython3",
   "version": "3.11.13"
  }
 },
 "nbformat": 4,
 "nbformat_minor": 5
}
