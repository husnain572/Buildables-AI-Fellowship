{
 "cells": [
  {
   "cell_type": "code",
   "execution_count": 14,
   "id": "b481d854",
   "metadata": {},
   "outputs": [
    {
     "name": "stdout",
     "output_type": "stream",
     "text": [
      "Transcribed text: hello how are you\n"
     ]
    }
   ],
   "source": [
    "import speech_recognition as sr\n",
    "\n",
    "def transcribe_audio(file_path):\n",
    "    r = sr.Recognizer()\n",
    "    with sr.AudioFile(file_path) as source:\n",
    "        audio = r.record(source)\n",
    "    try:\n",
    "        return r.recognize_google(audio, language=\"en-US\")\n",
    "    except sr.UnknownValueError:\n",
    "        return \"Could not understand audio\"\n",
    "    except sr.RequestError as e:\n",
    "        return f\"API error: {e}\"\n",
    "\n",
    "if __name__ == \"__main__\":\n",
    "    text = transcribe_audio(\"demo.wav\")\n",
    "    print(\"Transcribed text:\", text)\n"
   ]
  },
  {
   "cell_type": "code",
   "execution_count": 1,
   "id": "9627cf1d",
   "metadata": {},
   "outputs": [
    {
     "name": "stdout",
     "output_type": "stream",
     "text": [
      "✅ Audio saved as output.mp3\n"
     ]
    }
   ],
   "source": [
    "from gtts import gTTS\n",
    "\n",
    "def text_to_speech(text, output_file=\"output.wav\"):\n",
    "    tts = gTTS(text=text, lang=\"en\")\n",
    "    tts.save(\"output.mp3\")\n",
    "    print(f\"✅ Audio saved as output.mp3\")\n",
    "\n",
    "if __name__ == \"__main__\":\n",
    "    text_to_speech(\"hello how are you\")\n"
   ]
  },
  {
   "cell_type": "code",
   "execution_count": 21,
   "id": "217f38a2",
   "metadata": {},
   "outputs": [
    {
     "name": "stdout",
     "output_type": "stream",
     "text": [
      "Bot : The current Prime Minister of Pakistan is Shehbaz Sharif. He has been serving as the Prime Minister of Pakistan since April 2022.\n"
     ]
    }
   ],
   "source": [
    "from groq import Groq\n",
    "import os\n",
    "from dotenv import load_dotenv\n",
    "load_dotenv()\n",
    "GROQ_API_KEY=os.getenv(\"FELLOWSHIP_GROQ_KEY\")\n",
    "def generate_response(text):\n",
    "    try:\n",
    "        client=Groq(api_key=GROQ_API_KEY)\n",
    "        chat_completion=client.chat.completions.create( \n",
    "            messages=[\n",
    "                {\"role\":\"system\", \"content\":\"You are a help assistant\"},\n",
    "                {\"role\":\"user\",\"content\":text}\n",
    "            ],\n",
    "            model=\"meta-llama/llama-4-scout-17b-16e-instruct\",\n",
    "            max_tokens=100\n",
    "            # timeout=30  \n",
    "\n",
    "        )\n",
    "        return chat_completion.choices[0].message.content\n",
    "    except Exception as e:\n",
    "        print(f\"Groq error:{e}\")\n",
    "        return \"\"\n",
    "if __name__==\"__main__\":\n",
    "    response=generate_response(\"Who is PM of Pakistan\")\n",
    "    print(\"Bot :\",response)"
   ]
  },
  {
   "cell_type": "markdown",
   "id": "0ab20429",
   "metadata": {},
   "source": [
    "# Combining them for a single flow"
   ]
  },
  {
   "cell_type": "code",
   "execution_count": null,
   "id": "8ca21c33",
   "metadata": {},
   "outputs": [],
   "source": [
    "import speech_recognition as sr\n",
    "from gtts import gTTS\n",
    "from groq import Groq\n",
    "import os\n",
    "from dotenv import load_dotenv\n",
    "\n",
    "load_dotenv()"
   ]
  },
  {
   "cell_type": "code",
   "execution_count": 27,
   "id": "91415cce",
   "metadata": {},
   "outputs": [
    {
     "name": "stdout",
     "output_type": "stream",
     "text": [
      "Transcribed text: hello how are you\n",
      "Generated response: Hello! I'm just a computer program, so I don't have feelings like humans do, but I'm functioning properly and ready to help you. How can I assist you today?\n",
      "✅ Audio saved as output.mp3\n"
     ]
    }
   ],
   "source": [
    "def transcribe_audio(file_path):\n",
    "    r = sr.Recognizer()\n",
    "    with sr.AudioFile(file_path) as source:\n",
    "        audio = r.record(source)\n",
    "    try:\n",
    "        return r.recognize_google(audio, language=\"en-US\")\n",
    "    except sr.UnknownValueError:\n",
    "        return \"Could not understand audio\"\n",
    "    \n",
    "def generate_response(text):\n",
    "    try:\n",
    "        client = Groq(api_key=os.getenv(\"FELLOWSHIP_GROQ_KEY\"))\n",
    "        chat_completion = client.chat.completions.create(\n",
    "            messages=[\n",
    "                {\"role\": \"system\", \"content\": \"You are a helpful assistant. Do not use any language other than English. Do not give long answers.\"},\n",
    "                {\"role\": \"user\", \"content\": text}\n",
    "            ],\n",
    "            model=\"meta-llama/llama-4-scout-17b-16e-instruct\",\n",
    "            max_tokens=50\n",
    "        )\n",
    "        return chat_completion.choices[0].message.content\n",
    "    except Exception as e:\n",
    "        print(f\"⚠️ Groq error: {e}\")\n",
    "        return \"\"\n",
    "\n",
    "def text_to_speech(text, output_file=\"output.wav\"):\n",
    "    tts = gTTS(text=text, lang=\"en\")\n",
    "    tts.save(\"output.mp3\")\n",
    "    print(f\"✅ Audio saved as output.mp3\")\n",
    "\n",
    "if __name__ == \"__main__\":\n",
    "    text = transcribe_audio(\"demo.wav\")\n",
    "    print(\"Transcribed text:\", text)\n",
    "    \n",
    "    response = generate_response(text)\n",
    "    print(\"Generated response:\", response)\n",
    "    \n",
    "    text_to_speech(response)"
   ]
  },
  {
   "cell_type": "code",
   "execution_count": null,
   "id": "6b7f25b4",
   "metadata": {},
   "outputs": [
    {
     "name": "stdout",
     "output_type": "stream",
     "text": [
      "Audio saved successfully.\n"
     ]
    }
   ],
   "source": []
  },
  {
   "cell_type": "code",
   "execution_count": null,
   "id": "120416e3",
   "metadata": {},
   "outputs": [],
   "source": []
  }
 ],
 "metadata": {
  "kernelspec": {
   "display_name": "fellowship_env",
   "language": "python",
   "name": "python3"
  },
  "language_info": {
   "codemirror_mode": {
    "name": "ipython",
    "version": 3
   },
   "file_extension": ".py",
   "mimetype": "text/x-python",
   "name": "python",
   "nbconvert_exporter": "python",
   "pygments_lexer": "ipython3",
   "version": "3.11.13"
  }
 },
 "nbformat": 4,
 "nbformat_minor": 5
}
