{
 "cells": [
  {
   "cell_type": "code",
   "execution_count": 12,
   "id": "9765e9c3",
   "metadata": {},
   "outputs": [
    {
     "name": "stdout",
     "output_type": "stream",
     "text": [
      "Assistant is running... Say something! (say 'stop' to end)\n"
     ]
    },
    {
     "name": "stdout",
     "output_type": "stream",
     "text": [
      "Audio saved successfully.\n",
      "Could not understand audio\n",
      "Audio saved successfully.\n",
      "Conversation ended.\n"
     ]
    }
   ],
   "source": [
    "import speech_recognition as sr\n",
    "from gtts import gTTS\n",
    "from groq import Groq\n",
    "import os\n",
    "from dotenv import load_dotenv\n",
    "load_dotenv()\n",
    "def transcribe_audio(max_tries=3):\n",
    "    r=sr.Recognizer()\n",
    "    for attempt in range(max_tries):\n",
    "        with sr.Microphone() as source:\n",
    "            r.adjust_for_ambient_noise(source, duration=2)\n",
    "            audio=r.listen(source, phrase_time_limit=5)\n",
    "            try:\n",
    "                return r.recognize_google(audio,language=\"en-US\")\n",
    "            except sr.UnknownValueError:\n",
    "                print(\"Could not understand audio\")\n",
    "    return \"\"\n",
    "GROQ_API_KEY=os.getenv(\"FELLOWSHIP_GROQ_KEY\")\n",
    "\n",
    "history = [{\"role\": \"system\", \"content\": \"You are a helpful assistant.\"}]\n",
    "def generate_response(text):\n",
    "    global history\n",
    "    history.append({\"role\":\"user\",\"content\":text})\n",
    "    try:\n",
    "        client=Groq(api_key=GROQ_API_KEY)\n",
    "      \n",
    "        chat_completion=client.chat.completions.create(\n",
    "              messages=[history[0]]+history[-5:],\n",
    "        model=\"meta-llama/llama-4-scout-17b-16e-instruct\",\n",
    "        max_tokens=50\n",
    "        )\n",
    "        response = chat_completion.choices[0].message.content\n",
    "        history.append({\"role\":\"assistant\",\"content\":response})\n",
    "\n",
    "        return response\n",
    "    except Exception as e:\n",
    "        print(\"GROQ ERROR\",e)\n",
    "        return \"\"\n",
    "    \n",
    "def text_to_speech(text,output_file=\"output.mp3\"):\n",
    "    tts=gTTS(text=text,lang=\"en\")\n",
    "    tts.save(output_file)\n",
    "    print(\"Audio saved successfully.\")\n",
    "if __name__==\"__main__\":\n",
    "    print(\"Assistant is running... Say something! (say 'stop' to end)\")\n",
    "    counter=1\n",
    "    while True:\n",
    "        text=transcribe_audio()\n",
    "        if text.strip()==\"\":\n",
    "            print(\"Didn't catch that, pleae try again\")\n",
    "            continue\n",
    "        elif text.lower() in [\"stop\",\"exit\",\"quit\"]:\n",
    "            print(\"Conversation ended.\")\n",
    "            break\n",
    "    \n",
    "        response=generate_response(text)\n",
    "        text_to_speech(response, f\"response_{counter}.mp3\")\n",
    "        counter+=1"
   ]
  },
  {
   "cell_type": "code",
   "execution_count": null,
   "id": "bcfc7c6b",
   "metadata": {},
   "outputs": [],
   "source": []
  }
 ],
 "metadata": {
  "kernelspec": {
   "display_name": "fellowship_env",
   "language": "python",
   "name": "python3"
  },
  "language_info": {
   "codemirror_mode": {
    "name": "ipython",
    "version": 3
   },
   "file_extension": ".py",
   "mimetype": "text/x-python",
   "name": "python",
   "nbconvert_exporter": "python",
   "pygments_lexer": "ipython3",
   "version": "3.11.13"
  }
 },
 "nbformat": 4,
 "nbformat_minor": 5
}
